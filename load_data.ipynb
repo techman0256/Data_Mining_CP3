{
 "cells": [
  {
   "cell_type": "code",
   "execution_count": 50,
   "metadata": {
    "ExecuteTime": {
     "end_time": "2023-11-14T09:33:57.314498800Z",
     "start_time": "2023-11-14T09:33:57.231204400Z"
    }
   },
   "outputs": [],
   "source": [
    "import numpy as np\n",
    "import pandas as pd\n",
    "import matplotlib.pyplot as plt\n",
    "import seaborn as sns\n",
    "import sklearn\n"
   ]
  },
  {
   "cell_type": "code",
   "execution_count": 51,
   "metadata": {
    "ExecuteTime": {
     "end_time": "2023-11-14T09:33:57.388781200Z",
     "start_time": "2023-11-14T09:33:57.242253800Z"
    }
   },
   "outputs": [],
   "source": [
    "# Load data of fixtures\n",
    "# fixtures = pd.read_csv('dataset/matches.csv')\n",
    "\n",
    "# Load ball to ball dataset\n",
    "deliveries = pd.read_csv('worldcup2023.csv')"
   ]
  },
  {
   "cell_type": "code",
   "execution_count": 52,
   "metadata": {
    "ExecuteTime": {
     "end_time": "2023-11-14T09:33:57.392777Z",
     "start_time": "2023-11-14T09:33:57.303236500Z"
    }
   },
   "outputs": [
    {
     "data": {
      "text/plain": "   start_date  match_id                             venue  innings  ball  \\\n0  2023-10-05   1384392  Narendra Modi Stadium, Ahmedabad        1   0.1   \n1  2023-10-05   1384392  Narendra Modi Stadium, Ahmedabad        1   0.2   \n2  2023-10-05   1384392  Narendra Modi Stadium, Ahmedabad        1   0.3   \n3  2023-10-05   1384392  Narendra Modi Stadium, Ahmedabad        1   0.4   \n4  2023-10-05   1384392  Narendra Modi Stadium, Ahmedabad        1   0.5   \n\n  batting_team bowling_team      striker  non_striker    bowler  runs_off_bat  \\\n0      England  New Zealand  JM Bairstow     DJ Malan  TA Boult             0   \n1      England  New Zealand  JM Bairstow     DJ Malan  TA Boult             6   \n2      England  New Zealand  JM Bairstow     DJ Malan  TA Boult             1   \n3      England  New Zealand     DJ Malan  JM Bairstow  TA Boult             1   \n4      England  New Zealand  JM Bairstow     DJ Malan  TA Boult             4   \n\n   extras  wides  noballs  byes  legbyes  penalty wicket_type player_dismissed  \n0       0    NaN      NaN   NaN      NaN      NaN         NaN              NaN  \n1       0    NaN      NaN   NaN      NaN      NaN         NaN              NaN  \n2       0    NaN      NaN   NaN      NaN      NaN         NaN              NaN  \n3       0    NaN      NaN   NaN      NaN      NaN         NaN              NaN  \n4       0    NaN      NaN   NaN      NaN      NaN         NaN              NaN  ",
      "text/html": "<div>\n<style scoped>\n    .dataframe tbody tr th:only-of-type {\n        vertical-align: middle;\n    }\n\n    .dataframe tbody tr th {\n        vertical-align: top;\n    }\n\n    .dataframe thead th {\n        text-align: right;\n    }\n</style>\n<table border=\"1\" class=\"dataframe\">\n  <thead>\n    <tr style=\"text-align: right;\">\n      <th></th>\n      <th>start_date</th>\n      <th>match_id</th>\n      <th>venue</th>\n      <th>innings</th>\n      <th>ball</th>\n      <th>batting_team</th>\n      <th>bowling_team</th>\n      <th>striker</th>\n      <th>non_striker</th>\n      <th>bowler</th>\n      <th>runs_off_bat</th>\n      <th>extras</th>\n      <th>wides</th>\n      <th>noballs</th>\n      <th>byes</th>\n      <th>legbyes</th>\n      <th>penalty</th>\n      <th>wicket_type</th>\n      <th>player_dismissed</th>\n    </tr>\n  </thead>\n  <tbody>\n    <tr>\n      <th>0</th>\n      <td>2023-10-05</td>\n      <td>1384392</td>\n      <td>Narendra Modi Stadium, Ahmedabad</td>\n      <td>1</td>\n      <td>0.1</td>\n      <td>England</td>\n      <td>New Zealand</td>\n      <td>JM Bairstow</td>\n      <td>DJ Malan</td>\n      <td>TA Boult</td>\n      <td>0</td>\n      <td>0</td>\n      <td>NaN</td>\n      <td>NaN</td>\n      <td>NaN</td>\n      <td>NaN</td>\n      <td>NaN</td>\n      <td>NaN</td>\n      <td>NaN</td>\n    </tr>\n    <tr>\n      <th>1</th>\n      <td>2023-10-05</td>\n      <td>1384392</td>\n      <td>Narendra Modi Stadium, Ahmedabad</td>\n      <td>1</td>\n      <td>0.2</td>\n      <td>England</td>\n      <td>New Zealand</td>\n      <td>JM Bairstow</td>\n      <td>DJ Malan</td>\n      <td>TA Boult</td>\n      <td>6</td>\n      <td>0</td>\n      <td>NaN</td>\n      <td>NaN</td>\n      <td>NaN</td>\n      <td>NaN</td>\n      <td>NaN</td>\n      <td>NaN</td>\n      <td>NaN</td>\n    </tr>\n    <tr>\n      <th>2</th>\n      <td>2023-10-05</td>\n      <td>1384392</td>\n      <td>Narendra Modi Stadium, Ahmedabad</td>\n      <td>1</td>\n      <td>0.3</td>\n      <td>England</td>\n      <td>New Zealand</td>\n      <td>JM Bairstow</td>\n      <td>DJ Malan</td>\n      <td>TA Boult</td>\n      <td>1</td>\n      <td>0</td>\n      <td>NaN</td>\n      <td>NaN</td>\n      <td>NaN</td>\n      <td>NaN</td>\n      <td>NaN</td>\n      <td>NaN</td>\n      <td>NaN</td>\n    </tr>\n    <tr>\n      <th>3</th>\n      <td>2023-10-05</td>\n      <td>1384392</td>\n      <td>Narendra Modi Stadium, Ahmedabad</td>\n      <td>1</td>\n      <td>0.4</td>\n      <td>England</td>\n      <td>New Zealand</td>\n      <td>DJ Malan</td>\n      <td>JM Bairstow</td>\n      <td>TA Boult</td>\n      <td>1</td>\n      <td>0</td>\n      <td>NaN</td>\n      <td>NaN</td>\n      <td>NaN</td>\n      <td>NaN</td>\n      <td>NaN</td>\n      <td>NaN</td>\n      <td>NaN</td>\n    </tr>\n    <tr>\n      <th>4</th>\n      <td>2023-10-05</td>\n      <td>1384392</td>\n      <td>Narendra Modi Stadium, Ahmedabad</td>\n      <td>1</td>\n      <td>0.5</td>\n      <td>England</td>\n      <td>New Zealand</td>\n      <td>JM Bairstow</td>\n      <td>DJ Malan</td>\n      <td>TA Boult</td>\n      <td>4</td>\n      <td>0</td>\n      <td>NaN</td>\n      <td>NaN</td>\n      <td>NaN</td>\n      <td>NaN</td>\n      <td>NaN</td>\n      <td>NaN</td>\n      <td>NaN</td>\n    </tr>\n  </tbody>\n</table>\n</div>"
     },
     "execution_count": 52,
     "metadata": {},
     "output_type": "execute_result"
    }
   ],
   "source": [
    "deliveries = deliveries[['start_date', 'match_id', 'venue', 'innings', 'ball', 'batting_team', 'bowling_team', 'striker', 'non_striker', 'bowler', 'runs_off_bat', 'extras', 'wides', 'noballs', 'byes', 'legbyes', 'penalty', 'wicket_type', 'player_dismissed']]\n",
    "deliveries.head()"
   ]
  },
  {
   "cell_type": "code",
   "execution_count": 52,
   "metadata": {
    "ExecuteTime": {
     "end_time": "2023-11-14T09:33:57.393773400Z",
     "start_time": "2023-11-14T09:33:57.333386900Z"
    }
   },
   "outputs": [],
   "source": []
  },
  {
   "cell_type": "code",
   "execution_count": 53,
   "metadata": {
    "ExecuteTime": {
     "end_time": "2023-11-14T09:33:57.566601100Z",
     "start_time": "2023-11-14T09:33:57.351297600Z"
    }
   },
   "outputs": [],
   "source": [
    "# total teams\n",
    "teams = np.append(deliveries['batting_team'], deliveries['bowling_team'])\n",
    "teams = np.unique(teams)\n",
    "\n",
    "player_teamwise = pd.DataFrame(columns=['player', 'team'])\n",
    "for team in teams:\n",
    "    temp = np.array([])\n",
    "    temp = np.append(temp, deliveries[deliveries['batting_team'] == team]['striker'])\n",
    "    temp = np.append(temp, deliveries[deliveries['batting_team'] == team]['non_striker'])\n",
    "    temp = np.append(temp, deliveries[deliveries['bowling_team'] == team]['bowler'])\n",
    "    temp = np.unique(temp)\n",
    "    # pd.DataFrame({'player': temp, 'team': team})\n",
    "    player_teamwise = pd.concat([player_teamwise, pd.DataFrame({'player': temp, 'team': team})], ignore_index=True)\n"
   ]
  },
  {
   "cell_type": "code",
   "execution_count": 54,
   "metadata": {
    "ExecuteTime": {
     "end_time": "2023-11-14T09:33:57.763750700Z",
     "start_time": "2023-11-14T09:33:57.475605Z"
    }
   },
   "outputs": [
    {
     "name": "stdout",
     "output_type": "stream",
     "text": [
      "150\n",
      "150\n"
     ]
    },
    {
     "name": "stderr",
     "output_type": "stream",
     "text": [
      "C:\\Users\\sumuk\\AppData\\Local\\Temp\\ipykernel_11280\\2924406648.py:11: RuntimeWarning: invalid value encountered in scalar divide\n",
      "  strike_rate = (most_runs / len(matches_bats)) * 100\n"
     ]
    },
    {
     "data": {
      "text/plain": "                   player         team  most_runs  strike_rate\n0      Azmatullah Omarzai  Afghanistan      353.0    95.405405\n1        Fazalhaq Farooqi  Afghanistan        2.0    22.222222\n2    Hashmatullah Shahidi  Afghanistan      310.0    70.776256\n3          Ibrahim Zadran  Afghanistan      376.0    73.725490\n4           Ikram Alikhil  Afghanistan       89.0    86.407767\n..                    ...          ...        ...          ...\n145            MD Shanaka    Sri Lanka       80.0    96.385542\n146           MDKJ Perera    Sri Lanka      149.0    97.385621\n147            P Nissanka    Sri Lanka      332.0    87.368421\n148          PVD Chameera    Sri Lanka        6.0    15.384615\n149      S Samarawickrama    Sri Lanka      373.0   100.810811\n\n[150 rows x 4 columns]",
      "text/html": "<div>\n<style scoped>\n    .dataframe tbody tr th:only-of-type {\n        vertical-align: middle;\n    }\n\n    .dataframe tbody tr th {\n        vertical-align: top;\n    }\n\n    .dataframe thead th {\n        text-align: right;\n    }\n</style>\n<table border=\"1\" class=\"dataframe\">\n  <thead>\n    <tr style=\"text-align: right;\">\n      <th></th>\n      <th>player</th>\n      <th>team</th>\n      <th>most_runs</th>\n      <th>strike_rate</th>\n    </tr>\n  </thead>\n  <tbody>\n    <tr>\n      <th>0</th>\n      <td>Azmatullah Omarzai</td>\n      <td>Afghanistan</td>\n      <td>353.0</td>\n      <td>95.405405</td>\n    </tr>\n    <tr>\n      <th>1</th>\n      <td>Fazalhaq Farooqi</td>\n      <td>Afghanistan</td>\n      <td>2.0</td>\n      <td>22.222222</td>\n    </tr>\n    <tr>\n      <th>2</th>\n      <td>Hashmatullah Shahidi</td>\n      <td>Afghanistan</td>\n      <td>310.0</td>\n      <td>70.776256</td>\n    </tr>\n    <tr>\n      <th>3</th>\n      <td>Ibrahim Zadran</td>\n      <td>Afghanistan</td>\n      <td>376.0</td>\n      <td>73.725490</td>\n    </tr>\n    <tr>\n      <th>4</th>\n      <td>Ikram Alikhil</td>\n      <td>Afghanistan</td>\n      <td>89.0</td>\n      <td>86.407767</td>\n    </tr>\n    <tr>\n      <th>...</th>\n      <td>...</td>\n      <td>...</td>\n      <td>...</td>\n      <td>...</td>\n    </tr>\n    <tr>\n      <th>145</th>\n      <td>MD Shanaka</td>\n      <td>Sri Lanka</td>\n      <td>80.0</td>\n      <td>96.385542</td>\n    </tr>\n    <tr>\n      <th>146</th>\n      <td>MDKJ Perera</td>\n      <td>Sri Lanka</td>\n      <td>149.0</td>\n      <td>97.385621</td>\n    </tr>\n    <tr>\n      <th>147</th>\n      <td>P Nissanka</td>\n      <td>Sri Lanka</td>\n      <td>332.0</td>\n      <td>87.368421</td>\n    </tr>\n    <tr>\n      <th>148</th>\n      <td>PVD Chameera</td>\n      <td>Sri Lanka</td>\n      <td>6.0</td>\n      <td>15.384615</td>\n    </tr>\n    <tr>\n      <th>149</th>\n      <td>S Samarawickrama</td>\n      <td>Sri Lanka</td>\n      <td>373.0</td>\n      <td>100.810811</td>\n    </tr>\n  </tbody>\n</table>\n<p>150 rows × 4 columns</p>\n</div>"
     },
     "execution_count": 54,
     "metadata": {},
     "output_type": "execute_result"
    }
   ],
   "source": [
    "# Batting stats\n",
    "players = player_teamwise['player']\n",
    "\n",
    "runs = np.array([])\n",
    "sr = np.array([])\n",
    "\n",
    "\n",
    "for player in players:\n",
    "    matches_bats = deliveries[deliveries['striker'] == player]\n",
    "    most_runs = matches_bats['runs_off_bat'].sum()\n",
    "    strike_rate = (most_runs / len(matches_bats)) * 100\n",
    "\n",
    "    runs = np.append(runs, most_runs)\n",
    "    sr = np.append(sr, strike_rate)\n",
    "    # print(player, most_runs, strike_rate)\n",
    "\n",
    "print(len(runs))\n",
    "print(len(sr))\n",
    "player_teamwise['most_runs'] = runs\n",
    "player_teamwise['strike_rate'] = sr\n",
    "\n",
    "player_teamwise"
   ]
  },
  {
   "cell_type": "code",
   "execution_count": 55,
   "metadata": {
    "ExecuteTime": {
     "end_time": "2023-11-14T09:33:58.068708300Z",
     "start_time": "2023-11-14T09:33:57.758744900Z"
    }
   },
   "outputs": [
    {
     "name": "stderr",
     "output_type": "stream",
     "text": [
      "C:\\Users\\sumuk\\AppData\\Local\\Temp\\ipykernel_11280\\2313190734.py:15: RuntimeWarning: invalid value encountered in divide\n",
      "  economy = runs_given/overs_bowled\n",
      "C:\\Users\\sumuk\\AppData\\Local\\Temp\\ipykernel_11280\\2313190734.py:16: RuntimeWarning: invalid value encountered in scalar divide\n",
      "  bowling_average = runs_given/wickets\n",
      "C:\\Users\\sumuk\\AppData\\Local\\Temp\\ipykernel_11280\\2313190734.py:17: RuntimeWarning: invalid value encountered in scalar divide\n",
      "  bowling_strike_rate = len(matches_bowls)/wickets\n",
      "C:\\Users\\sumuk\\AppData\\Local\\Temp\\ipykernel_11280\\2313190734.py:16: RuntimeWarning: divide by zero encountered in scalar divide\n",
      "  bowling_average = runs_given/wickets\n",
      "C:\\Users\\sumuk\\AppData\\Local\\Temp\\ipykernel_11280\\2313190734.py:17: RuntimeWarning: divide by zero encountered in scalar divide\n",
      "  bowling_strike_rate = len(matches_bowls)/wickets\n"
     ]
    }
   ],
   "source": [
    "# Bowling stats\n",
    "players = player_teamwise['player']\n",
    "\n",
    "eco = np.array([])\n",
    "avg = np.array([])\n",
    "sr = np.array([])\n",
    "\n",
    "for player in players:\n",
    "    matches_bowls = deliveries[deliveries['bowler'] == player]\n",
    "    balls_bowled = len(matches_bowls)\n",
    "    wickets = matches_bowls['wicket_type'].count()\n",
    "    runs_given = matches_bowls['runs_off_bat'].sum() + matches_bowls['extras'].sum()\n",
    "\n",
    "    overs_bowled = len(matches_bowls)/6\n",
    "    economy = runs_given/overs_bowled\n",
    "    bowling_average = runs_given/wickets\n",
    "    bowling_strike_rate = len(matches_bowls)/wickets\n",
    "\n",
    "    eco = np.append(eco, economy)\n",
    "    avg = np.append(avg, bowling_average)\n",
    "    sr = np.append(sr, bowling_strike_rate)\n",
    "\n",
    "player_teamwise['economy'] = eco\n",
    "player_teamwise['avg'] = avg\n",
    "player_teamwise['sr'] = sr"
   ]
  },
  {
   "cell_type": "code",
   "execution_count": 56,
   "metadata": {
    "ExecuteTime": {
     "end_time": "2023-11-14T09:33:58.093834500Z",
     "start_time": "2023-11-14T09:33:58.079254Z"
    }
   },
   "outputs": [
    {
     "data": {
      "text/plain": "                   player         team  most_runs  strike_rate   economy  \\\n0      Azmatullah Omarzai  Afghanistan      353.0    95.405405  6.919149   \n1        Fazalhaq Farooqi  Afghanistan        2.0    22.222222  5.542169   \n2    Hashmatullah Shahidi  Afghanistan      310.0    70.776256       NaN   \n3          Ibrahim Zadran  Afghanistan      376.0    73.725490       NaN   \n4           Ikram Alikhil  Afghanistan       89.0    86.407767       NaN   \n..                    ...          ...        ...          ...       ...   \n145            MD Shanaka    Sri Lanka       80.0    96.385542  5.818182   \n146           MDKJ Perera    Sri Lanka      149.0    97.385621       NaN   \n147            P Nissanka    Sri Lanka      332.0    87.368421       NaN   \n148          PVD Chameera    Sri Lanka        6.0    15.384615  6.347368   \n149      S Samarawickrama    Sri Lanka      373.0   100.810811       NaN   \n\n            avg         sr  \n0     38.714286  33.571429  \n1     32.857143  35.571429  \n2           NaN        NaN  \n3           NaN        NaN  \n4           NaN        NaN  \n..          ...        ...  \n145         inf        inf  \n146         NaN        NaN  \n147         NaN        NaN  \n148  100.500000  95.000000  \n149         NaN        NaN  \n\n[150 rows x 7 columns]",
      "text/html": "<div>\n<style scoped>\n    .dataframe tbody tr th:only-of-type {\n        vertical-align: middle;\n    }\n\n    .dataframe tbody tr th {\n        vertical-align: top;\n    }\n\n    .dataframe thead th {\n        text-align: right;\n    }\n</style>\n<table border=\"1\" class=\"dataframe\">\n  <thead>\n    <tr style=\"text-align: right;\">\n      <th></th>\n      <th>player</th>\n      <th>team</th>\n      <th>most_runs</th>\n      <th>strike_rate</th>\n      <th>economy</th>\n      <th>avg</th>\n      <th>sr</th>\n    </tr>\n  </thead>\n  <tbody>\n    <tr>\n      <th>0</th>\n      <td>Azmatullah Omarzai</td>\n      <td>Afghanistan</td>\n      <td>353.0</td>\n      <td>95.405405</td>\n      <td>6.919149</td>\n      <td>38.714286</td>\n      <td>33.571429</td>\n    </tr>\n    <tr>\n      <th>1</th>\n      <td>Fazalhaq Farooqi</td>\n      <td>Afghanistan</td>\n      <td>2.0</td>\n      <td>22.222222</td>\n      <td>5.542169</td>\n      <td>32.857143</td>\n      <td>35.571429</td>\n    </tr>\n    <tr>\n      <th>2</th>\n      <td>Hashmatullah Shahidi</td>\n      <td>Afghanistan</td>\n      <td>310.0</td>\n      <td>70.776256</td>\n      <td>NaN</td>\n      <td>NaN</td>\n      <td>NaN</td>\n    </tr>\n    <tr>\n      <th>3</th>\n      <td>Ibrahim Zadran</td>\n      <td>Afghanistan</td>\n      <td>376.0</td>\n      <td>73.725490</td>\n      <td>NaN</td>\n      <td>NaN</td>\n      <td>NaN</td>\n    </tr>\n    <tr>\n      <th>4</th>\n      <td>Ikram Alikhil</td>\n      <td>Afghanistan</td>\n      <td>89.0</td>\n      <td>86.407767</td>\n      <td>NaN</td>\n      <td>NaN</td>\n      <td>NaN</td>\n    </tr>\n    <tr>\n      <th>...</th>\n      <td>...</td>\n      <td>...</td>\n      <td>...</td>\n      <td>...</td>\n      <td>...</td>\n      <td>...</td>\n      <td>...</td>\n    </tr>\n    <tr>\n      <th>145</th>\n      <td>MD Shanaka</td>\n      <td>Sri Lanka</td>\n      <td>80.0</td>\n      <td>96.385542</td>\n      <td>5.818182</td>\n      <td>inf</td>\n      <td>inf</td>\n    </tr>\n    <tr>\n      <th>146</th>\n      <td>MDKJ Perera</td>\n      <td>Sri Lanka</td>\n      <td>149.0</td>\n      <td>97.385621</td>\n      <td>NaN</td>\n      <td>NaN</td>\n      <td>NaN</td>\n    </tr>\n    <tr>\n      <th>147</th>\n      <td>P Nissanka</td>\n      <td>Sri Lanka</td>\n      <td>332.0</td>\n      <td>87.368421</td>\n      <td>NaN</td>\n      <td>NaN</td>\n      <td>NaN</td>\n    </tr>\n    <tr>\n      <th>148</th>\n      <td>PVD Chameera</td>\n      <td>Sri Lanka</td>\n      <td>6.0</td>\n      <td>15.384615</td>\n      <td>6.347368</td>\n      <td>100.500000</td>\n      <td>95.000000</td>\n    </tr>\n    <tr>\n      <th>149</th>\n      <td>S Samarawickrama</td>\n      <td>Sri Lanka</td>\n      <td>373.0</td>\n      <td>100.810811</td>\n      <td>NaN</td>\n      <td>NaN</td>\n      <td>NaN</td>\n    </tr>\n  </tbody>\n</table>\n<p>150 rows × 7 columns</p>\n</div>"
     },
     "execution_count": 56,
     "metadata": {},
     "output_type": "execute_result"
    }
   ],
   "source": [
    "player_teamwise"
   ]
  },
  {
   "cell_type": "code",
   "execution_count": 57,
   "metadata": {
    "ExecuteTime": {
     "end_time": "2023-11-14T09:33:58.127734600Z",
     "start_time": "2023-11-14T09:33:58.086309300Z"
    }
   },
   "outputs": [],
   "source": [
    "player_teamwise.to_csv('player_stats.csv', index=False)"
   ]
  },
  {
   "cell_type": "markdown",
   "metadata": {},
   "source": [
    "Performance of 4 (semi-finalists) teams in previous matches"
   ]
  },
  {
   "cell_type": "code",
   "execution_count": 58,
   "outputs": [
    {
     "data": {
      "text/plain": "'Bangladesh'"
     },
     "execution_count": 58,
     "metadata": {},
     "output_type": "execute_result"
    }
   ],
   "source": [
    "from sklearn import preprocessing\n",
    "id_encoder = preprocessing.LabelEncoder()\n",
    "\n",
    "icc_data = []\n",
    "teams = player_teamwise['team'].unique()\n",
    "teams[2]"
   ],
   "metadata": {
    "collapsed": false,
    "ExecuteTime": {
     "end_time": "2023-11-14T09:33:58.159408200Z",
     "start_time": "2023-11-14T09:33:58.102185100Z"
    }
   }
  },
  {
   "cell_type": "code",
   "execution_count": 60,
   "outputs": [
    {
     "name": "stdout",
     "output_type": "stream",
     "text": [
      "                  player         team  most_runs  strike_rate    economy  \\\n",
      "0     Azmatullah Omarzai  Afghanistan      353.0    95.405405   6.919149   \n",
      "1       Fazalhaq Farooqi  Afghanistan        2.0    22.222222   5.542169   \n",
      "2   Hashmatullah Shahidi  Afghanistan      310.0    70.776256        NaN   \n",
      "3         Ibrahim Zadran  Afghanistan      376.0    73.725490        NaN   \n",
      "4          Ikram Alikhil  Afghanistan       89.0    86.407767        NaN   \n",
      "5          Mohammad Nabi  Afghanistan       55.0    71.428571   4.129032   \n",
      "6       Mujeeb Ur Rahman  Afghanistan       51.0   127.500000   5.532000   \n",
      "7      Najibullah Zadran  Afghanistan        7.0    33.333333        NaN   \n",
      "8          Naveen-ul-Haq  Afghanistan       16.0    64.000000   6.650602   \n",
      "9             Noor Ahmad  Afghanistan       26.0    81.250000   4.600000   \n",
      "10    Rahmanullah Gurbaz  Afghanistan      280.0    96.551724        NaN   \n",
      "11           Rahmat Shah  Afghanistan      320.0    74.592075  12.000000   \n",
      "12           Rashid Khan  Afghanistan      105.0    91.304348   4.451977   \n",
      "\n",
      "          avg         sr  \n",
      "0   38.714286  33.571429  \n",
      "1   32.857143  35.571429  \n",
      "2         NaN        NaN  \n",
      "3         NaN        NaN  \n",
      "4         NaN        NaN  \n",
      "5   23.272727  33.818182  \n",
      "6   51.222222  55.555556  \n",
      "7         NaN        NaN  \n",
      "8   40.888889  36.888889  \n",
      "9   36.800000  48.000000  \n",
      "10        NaN        NaN  \n",
      "11        inf        inf  \n",
      "12  30.307692  40.846154  \n"
     ]
    },
    {
     "name": "stderr",
     "output_type": "stream",
     "text": [
      "C:\\Users\\sumuk\\AppData\\Local\\Temp\\ipykernel_11280\\599819293.py:18: FutureWarning: The default value of numeric_only in DataFrameGroupBy.sum is deprecated. In a future version, numeric_only will default to False. Either specify numeric_only or select only columns which should be valid for the function.\n",
      "  records = player_on_strike.groupby('match_id').sum()['wicket_type']\n"
     ]
    },
    {
     "ename": "KeyError",
     "evalue": "'wicket_type'",
     "output_type": "error",
     "traceback": [
      "\u001B[1;31m---------------------------------------------------------------------------\u001B[0m",
      "\u001B[1;31mKeyError\u001B[0m                                  Traceback (most recent call last)",
      "File \u001B[1;32m~\\AppData\\Roaming\\Python\\Python310\\site-packages\\pandas\\core\\indexes\\base.py:3802\u001B[0m, in \u001B[0;36mIndex.get_loc\u001B[1;34m(self, key, method, tolerance)\u001B[0m\n\u001B[0;32m   3801\u001B[0m \u001B[38;5;28;01mtry\u001B[39;00m:\n\u001B[1;32m-> 3802\u001B[0m     \u001B[38;5;28;01mreturn\u001B[39;00m \u001B[38;5;28;43mself\u001B[39;49m\u001B[38;5;241;43m.\u001B[39;49m\u001B[43m_engine\u001B[49m\u001B[38;5;241;43m.\u001B[39;49m\u001B[43mget_loc\u001B[49m\u001B[43m(\u001B[49m\u001B[43mcasted_key\u001B[49m\u001B[43m)\u001B[49m\n\u001B[0;32m   3803\u001B[0m \u001B[38;5;28;01mexcept\u001B[39;00m \u001B[38;5;167;01mKeyError\u001B[39;00m \u001B[38;5;28;01mas\u001B[39;00m err:\n",
      "File \u001B[1;32m~\\AppData\\Roaming\\Python\\Python310\\site-packages\\pandas\\_libs\\index.pyx:138\u001B[0m, in \u001B[0;36mpandas._libs.index.IndexEngine.get_loc\u001B[1;34m()\u001B[0m\n",
      "File \u001B[1;32m~\\AppData\\Roaming\\Python\\Python310\\site-packages\\pandas\\_libs\\index.pyx:165\u001B[0m, in \u001B[0;36mpandas._libs.index.IndexEngine.get_loc\u001B[1;34m()\u001B[0m\n",
      "File \u001B[1;32mpandas\\_libs\\hashtable_class_helper.pxi:5745\u001B[0m, in \u001B[0;36mpandas._libs.hashtable.PyObjectHashTable.get_item\u001B[1;34m()\u001B[0m\n",
      "File \u001B[1;32mpandas\\_libs\\hashtable_class_helper.pxi:5753\u001B[0m, in \u001B[0;36mpandas._libs.hashtable.PyObjectHashTable.get_item\u001B[1;34m()\u001B[0m\n",
      "\u001B[1;31mKeyError\u001B[0m: 'wicket_type'",
      "\nThe above exception was the direct cause of the following exception:\n",
      "\u001B[1;31mKeyError\u001B[0m                                  Traceback (most recent call last)",
      "Input \u001B[1;32mIn [60]\u001B[0m, in \u001B[0;36m<cell line: 2>\u001B[1;34m()\u001B[0m\n\u001B[0;32m     15\u001B[0m scores[\u001B[38;5;124m'\u001B[39m\u001B[38;5;124mplayer\u001B[39m\u001B[38;5;124m'\u001B[39m] \u001B[38;5;241m=\u001B[39m player\n\u001B[0;32m     16\u001B[0m \u001B[38;5;66;03m# records = player_on_strike.groupby('match_id').sum()['runs_off_bat']\u001B[39;00m\n\u001B[0;32m     17\u001B[0m \u001B[38;5;66;03m# records += player_on_strike.groupby('match_id').sum()['extras']\u001B[39;00m\n\u001B[1;32m---> 18\u001B[0m records \u001B[38;5;241m=\u001B[39m \u001B[43mplayer_on_strike\u001B[49m\u001B[38;5;241;43m.\u001B[39;49m\u001B[43mgroupby\u001B[49m\u001B[43m(\u001B[49m\u001B[38;5;124;43m'\u001B[39;49m\u001B[38;5;124;43mmatch_id\u001B[39;49m\u001B[38;5;124;43m'\u001B[39;49m\u001B[43m)\u001B[49m\u001B[38;5;241;43m.\u001B[39;49m\u001B[43msum\u001B[49m\u001B[43m(\u001B[49m\u001B[43m)\u001B[49m\u001B[43m[\u001B[49m\u001B[38;5;124;43m'\u001B[39;49m\u001B[38;5;124;43mwicket_type\u001B[39;49m\u001B[38;5;124;43m'\u001B[39;49m\u001B[43m]\u001B[49m\n\u001B[0;32m     20\u001B[0m records \u001B[38;5;241m=\u001B[39m records\n\u001B[0;32m     21\u001B[0m \u001B[38;5;28mprint\u001B[39m(player)\n",
      "File \u001B[1;32m~\\AppData\\Roaming\\Python\\Python310\\site-packages\\pandas\\core\\frame.py:3807\u001B[0m, in \u001B[0;36mDataFrame.__getitem__\u001B[1;34m(self, key)\u001B[0m\n\u001B[0;32m   3805\u001B[0m \u001B[38;5;28;01mif\u001B[39;00m \u001B[38;5;28mself\u001B[39m\u001B[38;5;241m.\u001B[39mcolumns\u001B[38;5;241m.\u001B[39mnlevels \u001B[38;5;241m>\u001B[39m \u001B[38;5;241m1\u001B[39m:\n\u001B[0;32m   3806\u001B[0m     \u001B[38;5;28;01mreturn\u001B[39;00m \u001B[38;5;28mself\u001B[39m\u001B[38;5;241m.\u001B[39m_getitem_multilevel(key)\n\u001B[1;32m-> 3807\u001B[0m indexer \u001B[38;5;241m=\u001B[39m \u001B[38;5;28;43mself\u001B[39;49m\u001B[38;5;241;43m.\u001B[39;49m\u001B[43mcolumns\u001B[49m\u001B[38;5;241;43m.\u001B[39;49m\u001B[43mget_loc\u001B[49m\u001B[43m(\u001B[49m\u001B[43mkey\u001B[49m\u001B[43m)\u001B[49m\n\u001B[0;32m   3808\u001B[0m \u001B[38;5;28;01mif\u001B[39;00m is_integer(indexer):\n\u001B[0;32m   3809\u001B[0m     indexer \u001B[38;5;241m=\u001B[39m [indexer]\n",
      "File \u001B[1;32m~\\AppData\\Roaming\\Python\\Python310\\site-packages\\pandas\\core\\indexes\\base.py:3804\u001B[0m, in \u001B[0;36mIndex.get_loc\u001B[1;34m(self, key, method, tolerance)\u001B[0m\n\u001B[0;32m   3802\u001B[0m     \u001B[38;5;28;01mreturn\u001B[39;00m \u001B[38;5;28mself\u001B[39m\u001B[38;5;241m.\u001B[39m_engine\u001B[38;5;241m.\u001B[39mget_loc(casted_key)\n\u001B[0;32m   3803\u001B[0m \u001B[38;5;28;01mexcept\u001B[39;00m \u001B[38;5;167;01mKeyError\u001B[39;00m \u001B[38;5;28;01mas\u001B[39;00m err:\n\u001B[1;32m-> 3804\u001B[0m     \u001B[38;5;28;01mraise\u001B[39;00m \u001B[38;5;167;01mKeyError\u001B[39;00m(key) \u001B[38;5;28;01mfrom\u001B[39;00m \u001B[38;5;21;01merr\u001B[39;00m\n\u001B[0;32m   3805\u001B[0m \u001B[38;5;28;01mexcept\u001B[39;00m \u001B[38;5;167;01mTypeError\u001B[39;00m:\n\u001B[0;32m   3806\u001B[0m     \u001B[38;5;66;03m# If we have a listlike key, _check_indexing_error will raise\u001B[39;00m\n\u001B[0;32m   3807\u001B[0m     \u001B[38;5;66;03m#  InvalidIndexError. Otherwise we fall through and re-raise\u001B[39;00m\n\u001B[0;32m   3808\u001B[0m     \u001B[38;5;66;03m#  the TypeError.\u001B[39;00m\n\u001B[0;32m   3809\u001B[0m     \u001B[38;5;28mself\u001B[39m\u001B[38;5;241m.\u001B[39m_check_indexing_error(key)\n",
      "\u001B[1;31mKeyError\u001B[0m: 'wicket_type'"
     ]
    }
   ],
   "source": [
    "icc_data = []\n",
    "for team in teams:\n",
    "    indian_matches = deliveries[deliveries['bowling_team'] == team]\n",
    "    matches = indian_matches['match_id'].unique()\n",
    "    scores = pd.DataFrame(columns=np.append(['player'], matches))\n",
    "    ############################################################################################\n",
    "    first_row = [team]\n",
    "    icc_data.append(first_row)\n",
    "    ############################################################################################\n",
    "    indian_squad = player_teamwise[player_teamwise['team'] == team]\n",
    "    print(indian_squad)\n",
    "    for player in indian_squad['player']:\n",
    "        temp = []\n",
    "        player_on_strike = indian_matches[indian_matches['bowler'] == player]\n",
    "        scores['player'] = player\n",
    "        records = player_on_strike.groupby('match_id').sum()['runs_off_bat']\n",
    "        records += player_on_strike.groupby('match_id').sum()['extras']\n",
    "        \n",
    "        records = records\n",
    "        print(player)\n",
    "        print(records)\n",
    "        temp.append(player)\n",
    "        for match in matches:\n",
    "            if match in records.keys():\n",
    "                temp.append(records[match])\n",
    "            else:\n",
    "                temp.append('-')\n",
    "        icc_data.append(temp)"
   ],
   "metadata": {
    "collapsed": false,
    "ExecuteTime": {
     "end_time": "2023-11-14T09:41:44.831734Z",
     "start_time": "2023-11-14T09:41:42.681683300Z"
    }
   }
  },
  {
   "cell_type": "code",
   "execution_count": null,
   "outputs": [],
   "source": [
    "for d in icc_data:\n",
    "    print(d)"
   ],
   "metadata": {
    "collapsed": false
   }
  },
  {
   "cell_type": "code",
   "execution_count": 61,
   "outputs": [],
   "source": [
    "from sklearn import preprocessing\n",
    "id_encoder = preprocessing.LabelEncoder()\n",
    "\n",
    "# indian_matches = deliveries[deliveries['batting_team'] == 'Afghanistan']\n",
    "indian_matches = deliveries[deliveries['bowling_team'] == 'India']\n",
    "matches = indian_matches['match_id'].unique()\n",
    "\n",
    "scores = pd.DataFrame(columns=np.append(['player'], matches))\n",
    "scores.head()\n",
    "############################################################################################\n",
    "first_row = ['player', 1384396, 1384400, 1384403, 1384408, 1384412, 1384420, 1384424, 1384428]\n",
    "main_data = []\n",
    "main_data.append(first_row)\n",
    "############################################################################################"
   ],
   "metadata": {
    "collapsed": false,
    "ExecuteTime": {
     "end_time": "2023-11-14T09:42:11.097339900Z",
     "start_time": "2023-11-14T09:42:11.079260600Z"
    }
   }
  },
  {
   "cell_type": "code",
   "execution_count": 62,
   "metadata": {
    "ExecuteTime": {
     "end_time": "2023-11-14T09:42:12.326935800Z",
     "start_time": "2023-11-14T09:42:12.224539300Z"
    }
   },
   "outputs": [
    {
     "name": "stdout",
     "output_type": "stream",
     "text": [
      "HH Pandya\n",
      "match_id\n",
      "1384396    28\n",
      "1384400    45\n",
      "1384403    34\n",
      "1384408     8\n",
      "Name: runs_off_bat, dtype: int64\n",
      "Ishan Kishan\n",
      "Series([], Name: runs_off_bat, dtype: int64)\n",
      "JJ Bumrah\n",
      "match_id\n",
      "1384396    36\n",
      "1384400    40\n",
      "1384403    20\n",
      "1384408    41\n",
      "1384412    45\n",
      "1384420    32\n",
      "1384424     8\n",
      "1384428    14\n",
      "Name: runs_off_bat, dtype: int64\n",
      "KL Rahul\n",
      "Series([], Name: runs_off_bat, dtype: int64)\n",
      "Kuldeep Yadav\n",
      "match_id\n",
      "1384396    42\n",
      "1384400    40\n",
      "1384403    35\n",
      "1384408    47\n",
      "1384412    76\n",
      "1384420    24\n",
      "1384424     3\n",
      "1384428     7\n",
      "Name: runs_off_bat, dtype: int64\n",
      "Mohammed Shami\n",
      "match_id\n",
      "1384412    59\n",
      "1384420    22\n",
      "1384424    19\n",
      "1384428    18\n",
      "Name: runs_off_bat, dtype: int64\n",
      "Mohammed Siraj\n",
      "match_id\n",
      "1384396    26\n",
      "1384400    78\n",
      "1384403    52\n",
      "1384408    61\n",
      "1384412    45\n",
      "1384420    35\n",
      "1384424    21\n",
      "1384428    11\n",
      "Name: runs_off_bat, dtype: int64\n",
      "R Ashwin\n",
      "match_id\n",
      "1384396    34\n",
      "Name: runs_off_bat, dtype: int64\n",
      "RA Jadeja\n",
      "match_id\n",
      "1384396    33\n",
      "1384400    38\n",
      "1384403    38\n",
      "1384408    38\n",
      "1384412    48\n",
      "1384420    16\n",
      "1384424     4\n",
      "1384428    33\n",
      "Name: runs_off_bat, dtype: int64\n",
      "RG Sharma\n",
      "Series([], Name: runs_off_bat, dtype: int64)\n",
      "SA Yadav\n",
      "Series([], Name: runs_off_bat, dtype: int64)\n",
      "SN Thakur\n",
      "match_id\n",
      "1384400    31\n",
      "1384403    12\n",
      "1384408    59\n",
      "Name: runs_off_bat, dtype: int64\n",
      "SS Iyer\n",
      "Series([], Name: runs_off_bat, dtype: int64)\n",
      "Shubman Gill\n",
      "Series([], Name: runs_off_bat, dtype: int64)\n",
      "V Kohli\n",
      "match_id\n",
      "1384408    2\n",
      "Name: runs_off_bat, dtype: int64\n",
      "Empty DataFrame\n",
      "Columns: [player, 1384396, 1384400, 1384403, 1384408, 1384412, 1384420, 1384424, 1384428]\n",
      "Index: []\n"
     ]
    },
    {
     "name": "stderr",
     "output_type": "stream",
     "text": [
      "C:\\Users\\sumuk\\AppData\\Local\\Temp\\ipykernel_11280\\4111760334.py:6: FutureWarning: The default value of numeric_only in DataFrameGroupBy.sum is deprecated. In a future version, numeric_only will default to False. Either specify numeric_only or select only columns which should be valid for the function.\n",
      "  records = player_on_strike.groupby('match_id').sum()['runs_off_bat']\n",
      "C:\\Users\\sumuk\\AppData\\Local\\Temp\\ipykernel_11280\\4111760334.py:7: FutureWarning: The default value of numeric_only in DataFrameGroupBy.sum is deprecated. In a future version, numeric_only will default to False. Either specify numeric_only or select only columns which should be valid for the function.\n",
      "  records += player_on_strike.groupby('match_id').sum()['extras']\n",
      "C:\\Users\\sumuk\\AppData\\Local\\Temp\\ipykernel_11280\\4111760334.py:6: FutureWarning: The default value of numeric_only in DataFrameGroupBy.sum is deprecated. In a future version, numeric_only will default to False. Either specify numeric_only or select only columns which should be valid for the function.\n",
      "  records = player_on_strike.groupby('match_id').sum()['runs_off_bat']\n",
      "C:\\Users\\sumuk\\AppData\\Local\\Temp\\ipykernel_11280\\4111760334.py:7: FutureWarning: The default value of numeric_only in DataFrameGroupBy.sum is deprecated. In a future version, numeric_only will default to False. Either specify numeric_only or select only columns which should be valid for the function.\n",
      "  records += player_on_strike.groupby('match_id').sum()['extras']\n",
      "C:\\Users\\sumuk\\AppData\\Local\\Temp\\ipykernel_11280\\4111760334.py:6: FutureWarning: The default value of numeric_only in DataFrameGroupBy.sum is deprecated. In a future version, numeric_only will default to False. Either specify numeric_only or select only columns which should be valid for the function.\n",
      "  records = player_on_strike.groupby('match_id').sum()['runs_off_bat']\n",
      "C:\\Users\\sumuk\\AppData\\Local\\Temp\\ipykernel_11280\\4111760334.py:7: FutureWarning: The default value of numeric_only in DataFrameGroupBy.sum is deprecated. In a future version, numeric_only will default to False. Either specify numeric_only or select only columns which should be valid for the function.\n",
      "  records += player_on_strike.groupby('match_id').sum()['extras']\n",
      "C:\\Users\\sumuk\\AppData\\Local\\Temp\\ipykernel_11280\\4111760334.py:6: FutureWarning: The default value of numeric_only in DataFrameGroupBy.sum is deprecated. In a future version, numeric_only will default to False. Either specify numeric_only or select only columns which should be valid for the function.\n",
      "  records = player_on_strike.groupby('match_id').sum()['runs_off_bat']\n",
      "C:\\Users\\sumuk\\AppData\\Local\\Temp\\ipykernel_11280\\4111760334.py:7: FutureWarning: The default value of numeric_only in DataFrameGroupBy.sum is deprecated. In a future version, numeric_only will default to False. Either specify numeric_only or select only columns which should be valid for the function.\n",
      "  records += player_on_strike.groupby('match_id').sum()['extras']\n",
      "C:\\Users\\sumuk\\AppData\\Local\\Temp\\ipykernel_11280\\4111760334.py:6: FutureWarning: The default value of numeric_only in DataFrameGroupBy.sum is deprecated. In a future version, numeric_only will default to False. Either specify numeric_only or select only columns which should be valid for the function.\n",
      "  records = player_on_strike.groupby('match_id').sum()['runs_off_bat']\n",
      "C:\\Users\\sumuk\\AppData\\Local\\Temp\\ipykernel_11280\\4111760334.py:7: FutureWarning: The default value of numeric_only in DataFrameGroupBy.sum is deprecated. In a future version, numeric_only will default to False. Either specify numeric_only or select only columns which should be valid for the function.\n",
      "  records += player_on_strike.groupby('match_id').sum()['extras']\n",
      "C:\\Users\\sumuk\\AppData\\Local\\Temp\\ipykernel_11280\\4111760334.py:6: FutureWarning: The default value of numeric_only in DataFrameGroupBy.sum is deprecated. In a future version, numeric_only will default to False. Either specify numeric_only or select only columns which should be valid for the function.\n",
      "  records = player_on_strike.groupby('match_id').sum()['runs_off_bat']\n",
      "C:\\Users\\sumuk\\AppData\\Local\\Temp\\ipykernel_11280\\4111760334.py:7: FutureWarning: The default value of numeric_only in DataFrameGroupBy.sum is deprecated. In a future version, numeric_only will default to False. Either specify numeric_only or select only columns which should be valid for the function.\n",
      "  records += player_on_strike.groupby('match_id').sum()['extras']\n",
      "C:\\Users\\sumuk\\AppData\\Local\\Temp\\ipykernel_11280\\4111760334.py:6: FutureWarning: The default value of numeric_only in DataFrameGroupBy.sum is deprecated. In a future version, numeric_only will default to False. Either specify numeric_only or select only columns which should be valid for the function.\n",
      "  records = player_on_strike.groupby('match_id').sum()['runs_off_bat']\n",
      "C:\\Users\\sumuk\\AppData\\Local\\Temp\\ipykernel_11280\\4111760334.py:7: FutureWarning: The default value of numeric_only in DataFrameGroupBy.sum is deprecated. In a future version, numeric_only will default to False. Either specify numeric_only or select only columns which should be valid for the function.\n",
      "  records += player_on_strike.groupby('match_id').sum()['extras']\n",
      "C:\\Users\\sumuk\\AppData\\Local\\Temp\\ipykernel_11280\\4111760334.py:6: FutureWarning: The default value of numeric_only in DataFrameGroupBy.sum is deprecated. In a future version, numeric_only will default to False. Either specify numeric_only or select only columns which should be valid for the function.\n",
      "  records = player_on_strike.groupby('match_id').sum()['runs_off_bat']\n",
      "C:\\Users\\sumuk\\AppData\\Local\\Temp\\ipykernel_11280\\4111760334.py:7: FutureWarning: The default value of numeric_only in DataFrameGroupBy.sum is deprecated. In a future version, numeric_only will default to False. Either specify numeric_only or select only columns which should be valid for the function.\n",
      "  records += player_on_strike.groupby('match_id').sum()['extras']\n",
      "C:\\Users\\sumuk\\AppData\\Local\\Temp\\ipykernel_11280\\4111760334.py:6: FutureWarning: The default value of numeric_only in DataFrameGroupBy.sum is deprecated. In a future version, numeric_only will default to False. Either specify numeric_only or select only columns which should be valid for the function.\n",
      "  records = player_on_strike.groupby('match_id').sum()['runs_off_bat']\n",
      "C:\\Users\\sumuk\\AppData\\Local\\Temp\\ipykernel_11280\\4111760334.py:7: FutureWarning: The default value of numeric_only in DataFrameGroupBy.sum is deprecated. In a future version, numeric_only will default to False. Either specify numeric_only or select only columns which should be valid for the function.\n",
      "  records += player_on_strike.groupby('match_id').sum()['extras']\n",
      "C:\\Users\\sumuk\\AppData\\Local\\Temp\\ipykernel_11280\\4111760334.py:6: FutureWarning: The default value of numeric_only in DataFrameGroupBy.sum is deprecated. In a future version, numeric_only will default to False. Either specify numeric_only or select only columns which should be valid for the function.\n",
      "  records = player_on_strike.groupby('match_id').sum()['runs_off_bat']\n",
      "C:\\Users\\sumuk\\AppData\\Local\\Temp\\ipykernel_11280\\4111760334.py:7: FutureWarning: The default value of numeric_only in DataFrameGroupBy.sum is deprecated. In a future version, numeric_only will default to False. Either specify numeric_only or select only columns which should be valid for the function.\n",
      "  records += player_on_strike.groupby('match_id').sum()['extras']\n",
      "C:\\Users\\sumuk\\AppData\\Local\\Temp\\ipykernel_11280\\4111760334.py:6: FutureWarning: The default value of numeric_only in DataFrameGroupBy.sum is deprecated. In a future version, numeric_only will default to False. Either specify numeric_only or select only columns which should be valid for the function.\n",
      "  records = player_on_strike.groupby('match_id').sum()['runs_off_bat']\n",
      "C:\\Users\\sumuk\\AppData\\Local\\Temp\\ipykernel_11280\\4111760334.py:7: FutureWarning: The default value of numeric_only in DataFrameGroupBy.sum is deprecated. In a future version, numeric_only will default to False. Either specify numeric_only or select only columns which should be valid for the function.\n",
      "  records += player_on_strike.groupby('match_id').sum()['extras']\n",
      "C:\\Users\\sumuk\\AppData\\Local\\Temp\\ipykernel_11280\\4111760334.py:6: FutureWarning: The default value of numeric_only in DataFrameGroupBy.sum is deprecated. In a future version, numeric_only will default to False. Either specify numeric_only or select only columns which should be valid for the function.\n",
      "  records = player_on_strike.groupby('match_id').sum()['runs_off_bat']\n",
      "C:\\Users\\sumuk\\AppData\\Local\\Temp\\ipykernel_11280\\4111760334.py:7: FutureWarning: The default value of numeric_only in DataFrameGroupBy.sum is deprecated. In a future version, numeric_only will default to False. Either specify numeric_only or select only columns which should be valid for the function.\n",
      "  records += player_on_strike.groupby('match_id').sum()['extras']\n",
      "C:\\Users\\sumuk\\AppData\\Local\\Temp\\ipykernel_11280\\4111760334.py:6: FutureWarning: The default value of numeric_only in DataFrameGroupBy.sum is deprecated. In a future version, numeric_only will default to False. Either specify numeric_only or select only columns which should be valid for the function.\n",
      "  records = player_on_strike.groupby('match_id').sum()['runs_off_bat']\n",
      "C:\\Users\\sumuk\\AppData\\Local\\Temp\\ipykernel_11280\\4111760334.py:7: FutureWarning: The default value of numeric_only in DataFrameGroupBy.sum is deprecated. In a future version, numeric_only will default to False. Either specify numeric_only or select only columns which should be valid for the function.\n",
      "  records += player_on_strike.groupby('match_id').sum()['extras']\n",
      "C:\\Users\\sumuk\\AppData\\Local\\Temp\\ipykernel_11280\\4111760334.py:6: FutureWarning: The default value of numeric_only in DataFrameGroupBy.sum is deprecated. In a future version, numeric_only will default to False. Either specify numeric_only or select only columns which should be valid for the function.\n",
      "  records = player_on_strike.groupby('match_id').sum()['runs_off_bat']\n",
      "C:\\Users\\sumuk\\AppData\\Local\\Temp\\ipykernel_11280\\4111760334.py:7: FutureWarning: The default value of numeric_only in DataFrameGroupBy.sum is deprecated. In a future version, numeric_only will default to False. Either specify numeric_only or select only columns which should be valid for the function.\n",
      "  records += player_on_strike.groupby('match_id').sum()['extras']\n",
      "C:\\Users\\sumuk\\AppData\\Local\\Temp\\ipykernel_11280\\4111760334.py:6: FutureWarning: The default value of numeric_only in DataFrameGroupBy.sum is deprecated. In a future version, numeric_only will default to False. Either specify numeric_only or select only columns which should be valid for the function.\n",
      "  records = player_on_strike.groupby('match_id').sum()['runs_off_bat']\n",
      "C:\\Users\\sumuk\\AppData\\Local\\Temp\\ipykernel_11280\\4111760334.py:7: FutureWarning: The default value of numeric_only in DataFrameGroupBy.sum is deprecated. In a future version, numeric_only will default to False. Either specify numeric_only or select only columns which should be valid for the function.\n",
      "  records += player_on_strike.groupby('match_id').sum()['extras']\n"
     ]
    }
   ],
   "source": [
    "\n",
    "indian_squad = player_teamwise[player_teamwise['team'] == 'India']\n",
    "for player in indian_squad['player']:\n",
    "    temp = []\n",
    "    player_on_strike = indian_matches[indian_matches['bowler'] == player]\n",
    "    scores['player'] = player\n",
    "    records = player_on_strike.groupby('match_id').sum()['runs_off_bat']\n",
    "    records += player_on_strike.groupby('match_id').sum()['extras']\n",
    "    \n",
    "    records = records\n",
    "    print(player)\n",
    "    print(records)\n",
    "    \n",
    "    temp.append(player)\n",
    "    for match in matches:\n",
    "        if match in records.keys():\n",
    "            temp.append(records[match])\n",
    "        else:\n",
    "            temp.append('-')\n",
    "    main_data.append(temp)\n",
    "\n",
    "print(scores)"
   ]
  },
  {
   "cell_type": "code",
   "execution_count": 63,
   "outputs": [
    {
     "name": "stdout",
     "output_type": "stream",
     "text": [
      "['player', 1384396, 1384400, 1384403, 1384408, 1384412, 1384420, 1384424, 1384428]\n",
      "['HH Pandya', 28, 45, 34, 8, '-', '-', '-', '-']\n",
      "['Ishan Kishan', '-', '-', '-', '-', '-', '-', '-', '-']\n",
      "['JJ Bumrah', 36, 40, 20, 41, 45, 32, 8, 14]\n",
      "['KL Rahul', '-', '-', '-', '-', '-', '-', '-', '-']\n",
      "['Kuldeep Yadav', 42, 40, 35, 47, 76, 24, 3, 7]\n",
      "['Mohammed Shami', '-', '-', '-', '-', 59, 22, 19, 18]\n",
      "['Mohammed Siraj', 26, 78, 52, 61, 45, 35, 21, 11]\n",
      "['R Ashwin', 34, '-', '-', '-', '-', '-', '-', '-']\n",
      "['RA Jadeja', 33, 38, 38, 38, 48, 16, 4, 33]\n",
      "['RG Sharma', '-', '-', '-', '-', '-', '-', '-', '-']\n",
      "['SA Yadav', '-', '-', '-', '-', '-', '-', '-', '-']\n",
      "['SN Thakur', '-', 31, 12, 59, '-', '-', '-', '-']\n",
      "['SS Iyer', '-', '-', '-', '-', '-', '-', '-', '-']\n",
      "['Shubman Gill', '-', '-', '-', '-', '-', '-', '-', '-']\n",
      "['V Kohli', '-', '-', '-', 2, '-', '-', '-', '-']\n"
     ]
    }
   ],
   "source": [
    "for d in main_data:\n",
    "    print(d)\n"
   ],
   "metadata": {
    "collapsed": false,
    "ExecuteTime": {
     "end_time": "2023-11-14T09:42:13.931361700Z",
     "start_time": "2023-11-14T09:42:13.883020900Z"
    }
   }
  },
  {
   "cell_type": "code",
   "execution_count": null,
   "outputs": [],
   "source": [
    "# save main_data to csv using pandas\n",
    "df = pd.DataFrame(icc_data)\n",
    "df.to_csv('india_batting.csv', index=False)\n"
   ],
   "metadata": {
    "collapsed": false
   }
  },
  {
   "cell_type": "code",
   "execution_count": null,
   "outputs": [],
   "source": [],
   "metadata": {
    "collapsed": false
   }
  },
  {
   "cell_type": "code",
   "execution_count": null,
   "outputs": [],
   "source": [],
   "metadata": {
    "collapsed": false
   }
  },
  {
   "cell_type": "code",
   "execution_count": null,
   "outputs": [],
   "source": [],
   "metadata": {
    "collapsed": false
   }
  },
  {
   "cell_type": "code",
   "execution_count": null,
   "metadata": {},
   "outputs": [],
   "source": [
    "from sklearn.preprocessing import LabelEncoder\n",
    "\n",
    "team_encoder = LabelEncoder()\n",
    "\n",
    "deliveries['batting_team'] = team_encoder.fit_transform(deliveries['batting_team'])\n",
    "deliveries['bowling_team'] = team_encoder.fit_transform(deliveries['bowling_team'])\n"
   ]
  },
  {
   "cell_type": "markdown",
   "metadata": {},
   "source": [
    "Label Encodings of playing team as per the dataset\n",
    "\n",
    "[0 1 2 3 4 5 6 7 8 9]\n",
    "\n",
    "['Afghanistan' 'Australia' 'Bangladesh' 'England' 'India' 'Netherlands'\n",
    " 'New Zealand' 'Pakistan' 'South Africa' 'Sri Lanka']"
   ]
  },
  {
   "cell_type": "code",
   "execution_count": null,
   "metadata": {},
   "outputs": [],
   "source": [
    "# Labels encoded to the teams\n",
    "\n",
    "teams = deliveries['batting_team'].unique()\n",
    "print(np.sort(teams))\n",
    "print(team_encoder.inverse_transform(np.sort(teams)))"
   ]
  },
  {
   "cell_type": "markdown",
   "metadata": {},
   "source": [
    "Label Encodings of players"
   ]
  },
  {
   "cell_type": "code",
   "execution_count": null,
   "metadata": {},
   "outputs": [],
   "source": [
    "players = np.append(deliveries['striker'].unique(), np.append(deliveries['non_striker'].unique(), deliveries['bowler'].unique()))\n",
    "players = np.unique(players)\n",
    "# print(len(players))\n",
    "\n",
    "player_encoder = LabelEncoder()\n",
    "player_encoder.fit(players)\n",
    "\n",
    "deliveries['striker'] = player_encoder.transform(deliveries['striker'])\n",
    "deliveries['non_striker'] = player_encoder.transform(deliveries['non_striker'])\n",
    "deliveries['bowler'] = player_encoder.transform(deliveries['bowler'])"
   ]
  },
  {
   "cell_type": "markdown",
   "metadata": {},
   "source": [
    "Label Encodings of Stadiums"
   ]
  },
  {
   "cell_type": "code",
   "execution_count": null,
   "metadata": {},
   "outputs": [],
   "source": [
    "grounds = deliveries['venue'].unique()\n",
    "\n",
    "ground_encoder = LabelEncoder()\n",
    "ground_encoder.fit(grounds)\n",
    "\n",
    "deliveries['venue'] = ground_encoder.transform(deliveries['venue'])"
   ]
  },
  {
   "cell_type": "code",
   "execution_count": null,
   "metadata": {},
   "outputs": [],
   "source": [
    "deliveries.head()"
   ]
  },
  {
   "cell_type": "code",
   "execution_count": null,
   "metadata": {},
   "outputs": [],
   "source": [
    "deliveries = deliveries[['venue', 'innings', 'ball', 'batting_team', 'bowling_team', 'striker', 'non_striker', 'bowler', 'runs_off_bat']]\n",
    "deliveries.head()"
   ]
  },
  {
   "cell_type": "code",
   "execution_count": null,
   "metadata": {},
   "outputs": [],
   "source": []
  }
 ],
 "metadata": {
  "kernelspec": {
   "display_name": "Python 3",
   "language": "python",
   "name": "python3"
  },
  "language_info": {
   "codemirror_mode": {
    "name": "ipython",
    "version": 3
   },
   "file_extension": ".py",
   "mimetype": "text/x-python",
   "name": "python",
   "nbconvert_exporter": "python",
   "pygments_lexer": "ipython3",
   "version": "3.11.6"
  }
 },
 "nbformat": 4,
 "nbformat_minor": 2
}
