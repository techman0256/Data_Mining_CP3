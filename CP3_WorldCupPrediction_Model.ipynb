{
  "cells": [
    {
      "cell_type": "code",
      "execution_count": 88,
      "metadata": {
        "id": "mjV8wg6dPOh4"
      },
      "outputs": [],
      "source": [
        "import math\n",
        "import numpy as np\n",
        "import pandas as pd\n",
        "import matplotlib.pyplot as plt\n",
        "import seaborn as sns\n",
        "import os"
      ]
    },
    {
      "cell_type": "code",
      "execution_count": 89,
      "metadata": {
        "id": "cU7npuc6Sbre"
      },
      "outputs": [],
      "source": [
        "data = pd.read_csv('datasets/worldcup2023.csv')"
      ]
    },
    {
      "cell_type": "code",
      "execution_count": 90,
      "metadata": {
        "id": "i0EgyZZsW-CT"
      },
      "outputs": [],
      "source": [
        "matches = pd.read_csv('datasets/matches.csv')"
      ]
    },
    {
      "cell_type": "code",
      "execution_count": 91,
      "metadata": {
        "colab": {
          "base_uri": "https://localhost:8080/"
        },
        "id": "mv9LFjorsAY6",
        "outputId": "be85cb55-f01a-4b40-94bc-0ebc8859c108"
      },
      "outputs": [
        {
          "data": {
            "text/plain": [
              "Index(['Unnamed: 0', 'match_id', 'season', 'start_date', 'venue', 'innings',\n",
              "       'ball', 'batting_team', 'bowling_team', 'striker', 'non_striker',\n",
              "       'bowler', 'runs_off_bat', 'extras', 'wides', 'noballs', 'byes',\n",
              "       'legbyes', 'penalty', 'wicket_type', 'player_dismissed',\n",
              "       'other_wicket_type', 'other_player_dismissed'],\n",
              "      dtype='object')"
            ]
          },
          "execution_count": 91,
          "metadata": {},
          "output_type": "execute_result"
        }
      ],
      "source": [
        "data.columns"
      ]
    },
    {
      "cell_type": "code",
      "execution_count": 92,
      "metadata": {
        "colab": {
          "base_uri": "https://localhost:8080/"
        },
        "id": "kzfMa3g7XC_8",
        "outputId": "6835d108-cb00-4630-a756-b2fc4672064d"
      },
      "outputs": [
        {
          "data": {
            "text/plain": [
              "Index(['season', 'team1', 'team2', 'date', 'match_number', 'venue', 'city',\n",
              "       'toss_winner', 'toss_decision', 'player_of_match', 'umpire1', 'umpire2',\n",
              "       'reserve_umpire', 'match_referee', 'winner', 'winner_runs',\n",
              "       'winner_wickets', 'match_type'],\n",
              "      dtype='object')"
            ]
          },
          "execution_count": 92,
          "metadata": {},
          "output_type": "execute_result"
        }
      ],
      "source": [
        "matches.columns"
      ]
    },
    {
      "cell_type": "markdown",
      "metadata": {
        "id": "ixptOeB6taie"
      },
      "source": [
        "Performing Data Cleaning."
      ]
    },
    {
      "cell_type": "code",
      "execution_count": 93,
      "metadata": {
        "colab": {
          "base_uri": "https://localhost:8080/"
        },
        "id": "qXVa0MwfXE_B",
        "outputId": "83c84928-ff5a-40c2-f9fb-48e4b6ef441f"
      },
      "outputs": [
        {
          "data": {
            "text/plain": [
              "season              0\n",
              "team1               0\n",
              "team2               0\n",
              "date                0\n",
              "match_number        0\n",
              "venue               0\n",
              "city                0\n",
              "toss_winner         9\n",
              "toss_decision       9\n",
              "player_of_match     9\n",
              "umpire1            10\n",
              "umpire2            10\n",
              "reserve_umpire     11\n",
              "match_referee      10\n",
              "winner              0\n",
              "winner_runs        21\n",
              "winner_wickets     21\n",
              "match_type          0\n",
              "dtype: int64"
            ]
          },
          "execution_count": 93,
          "metadata": {},
          "output_type": "execute_result"
        }
      ],
      "source": [
        "matches.isna().sum()"
      ]
    },
    {
      "cell_type": "code",
      "execution_count": 94,
      "metadata": {
        "colab": {
          "base_uri": "https://localhost:8080/"
        },
        "id": "ofDQRzhlsJdd",
        "outputId": "b82daa76-7c7f-4528-bec6-6776ec6ce357"
      },
      "outputs": [
        {
          "data": {
            "text/plain": [
              "Unnamed: 0                    0\n",
              "match_id                      0\n",
              "season                        0\n",
              "start_date                    0\n",
              "venue                         0\n",
              "innings                       0\n",
              "ball                          0\n",
              "batting_team                  0\n",
              "bowling_team                  0\n",
              "striker                       0\n",
              "non_striker                   0\n",
              "bowler                        0\n",
              "runs_off_bat                  0\n",
              "extras                        0\n",
              "wides                     21999\n",
              "noballs                   22529\n",
              "byes                      22547\n",
              "legbyes                   22414\n",
              "penalty                   22578\n",
              "wicket_type               21938\n",
              "player_dismissed          21938\n",
              "other_wicket_type         22578\n",
              "other_player_dismissed    22578\n",
              "dtype: int64"
            ]
          },
          "execution_count": 94,
          "metadata": {},
          "output_type": "execute_result"
        }
      ],
      "source": [
        "data.isna().sum()"
      ]
    },
    {
      "cell_type": "code",
      "execution_count": 95,
      "metadata": {
        "id": "7RpFK9hUXK_8"
      },
      "outputs": [],
      "source": [
        "matches.winner_runs.fillna(0, inplace=True)\n",
        "matches.winner_wickets.fillna(0, inplace=True)"
      ]
    },
    {
      "cell_type": "code",
      "execution_count": 96,
      "metadata": {
        "id": "pHlZ7Pfdslr3"
      },
      "outputs": [],
      "source": [
        "#filling na values\n",
        "data[[\"wides\", \"noballs\", \"byes\", \"legbyes\", \"penalty\"]] = data[[\"wides\", \"noballs\", \"byes\", \"legbyes\", \"penalty\"]].fillna(0)"
      ]
    },
    {
      "cell_type": "code",
      "execution_count": 97,
      "metadata": {
        "id": "0GMdSVBhtAap"
      },
      "outputs": [],
      "source": [
        "data.wicket_type.fillna(\"no wicket\", inplace=True)\n",
        "data.player_dismissed.fillna(\"no wicket\", inplace=True)"
      ]
    },
    {
      "cell_type": "code",
      "execution_count": 98,
      "metadata": {
        "id": "MrLlNFl9tHRy"
      },
      "outputs": [],
      "source": [
        "data[[\"other_wicket_type\", \"other_player_dismissed\"]] = data[[\"other_wicket_type\", \"other_player_dismissed\"]].fillna(\"no dismissal\")"
      ]
    },
    {
      "cell_type": "code",
      "execution_count": 99,
      "metadata": {
        "id": "65-UrkyvOH0E"
      },
      "outputs": [],
      "source": [
        "# Getting the match number from the Match ID.\n",
        "data['match_number'] = data['match_id'].rank(method='dense').astype(int)"
      ]
    },
    {
      "cell_type": "code",
      "execution_count": 100,
      "metadata": {
        "id": "t94XmvfbXwnq"
      },
      "outputs": [],
      "source": [
        "# Keeping only the useful columns of this dataset\n",
        "matches = matches[['season', 'team1', 'team2', 'date', 'match_number', 'venue', 'city','winner', 'winner_runs', 'winner_wickets']]"
      ]
    },
    {
      "cell_type": "code",
      "execution_count": 101,
      "metadata": {
        "id": "2giLzIKPv77U"
      },
      "outputs": [],
      "source": [
        "#Calculate the total runs scored on each ball\n",
        "data[\"total_runs\"] = data[\"runs_off_bat\"] + data[\"extras\"]"
      ]
    },
    {
      "cell_type": "code",
      "execution_count": 102,
      "metadata": {
        "id": "HxT9hT-AwnPC"
      },
      "outputs": [],
      "source": [
        "#creating a wicket column to get boolean of wicket fall\n",
        "data[\"wicket\"] = data[\"player_dismissed\"].apply(lambda x: 1 if isinstance(x, str) else 0)"
      ]
    },
    {
      "cell_type": "code",
      "execution_count": 103,
      "metadata": {
        "id": "54paxoX8U91e"
      },
      "outputs": [],
      "source": [
        "#Creating two columns of Over and Ball numbers\n",
        "data[\"ball\"] = data[\"ball\"].astype(str)\n",
        "data[[\"over\", \"ball_num\"]] = data[\"ball\"].str.split(\".\", expand=True).astype(int)\n",
        "data[\"ball\"] = data[\"ball\"].astype(np.float64)\n",
        "data[\"over\"] = data[\"over\"] + 1\n",
        "data[\"ball_left\"] = 306 - (data[\"over\"]*6 + data[\"ball_num\"])"
      ]
    },
    {
      "cell_type": "code",
      "execution_count": 104,
      "metadata": {
        "id": "rPOrLRNSX8-l"
      },
      "outputs": [],
      "source": [
        "#creating total runs column to calculate runs on each ball incusive of extras\n",
        "data[\"total_runs\"] = data[\"runs_off_bat\"] + data[\"extras\"]"
      ]
    },
    {
      "cell_type": "markdown",
      "metadata": {
        "id": "o1GqVBybGPRL"
      },
      "source": [
        "Trying to build up a model."
      ]
    },
    {
      "cell_type": "code",
      "execution_count": 105,
      "metadata": {
        "id": "IvOvmONIgvHS"
      },
      "outputs": [],
      "source": [
        "#creating innings df so we can merger total runs for each innings with in original df\n",
        "innings = data.groupby([\"match_id\", \"innings\"])[\"total_runs\"].sum().reset_index()\n",
        "innings.rename(columns={\"total_runs\":\"innings_total\"}, inplace=True)"
      ]
    },
    {
      "cell_type": "code",
      "execution_count": 106,
      "metadata": {
        "colab": {
          "base_uri": "https://localhost:8080/",
          "height": 981
        },
        "id": "_QH1hn2_iYex",
        "outputId": "3a6267f9-b851-4ffb-88bc-edfe6d7381d5"
      },
      "outputs": [
        {
          "data": {
            "text/html": [
              "<div>\n",
              "<style scoped>\n",
              "    .dataframe tbody tr th:only-of-type {\n",
              "        vertical-align: middle;\n",
              "    }\n",
              "\n",
              "    .dataframe tbody tr th {\n",
              "        vertical-align: top;\n",
              "    }\n",
              "\n",
              "    .dataframe thead th {\n",
              "        text-align: right;\n",
              "    }\n",
              "</style>\n",
              "<table border=\"1\" class=\"dataframe\">\n",
              "  <thead>\n",
              "    <tr style=\"text-align: right;\">\n",
              "      <th></th>\n",
              "      <th>Unnamed: 0</th>\n",
              "      <th>match_id</th>\n",
              "      <th>season</th>\n",
              "      <th>start_date</th>\n",
              "      <th>venue</th>\n",
              "      <th>innings</th>\n",
              "      <th>ball</th>\n",
              "      <th>batting_team</th>\n",
              "      <th>bowling_team</th>\n",
              "      <th>striker</th>\n",
              "      <th>...</th>\n",
              "      <th>player_dismissed</th>\n",
              "      <th>other_wicket_type</th>\n",
              "      <th>other_player_dismissed</th>\n",
              "      <th>match_number</th>\n",
              "      <th>total_runs</th>\n",
              "      <th>wicket</th>\n",
              "      <th>over</th>\n",
              "      <th>ball_num</th>\n",
              "      <th>ball_left</th>\n",
              "      <th>innings_total</th>\n",
              "    </tr>\n",
              "  </thead>\n",
              "  <tbody>\n",
              "    <tr>\n",
              "      <th>0</th>\n",
              "      <td>128024</td>\n",
              "      <td>1384392</td>\n",
              "      <td>2023/24</td>\n",
              "      <td>2023-10-05</td>\n",
              "      <td>Narendra Modi Stadium, Ahmedabad</td>\n",
              "      <td>1</td>\n",
              "      <td>0.1</td>\n",
              "      <td>England</td>\n",
              "      <td>New Zealand</td>\n",
              "      <td>JM Bairstow</td>\n",
              "      <td>...</td>\n",
              "      <td>no wicket</td>\n",
              "      <td>no dismissal</td>\n",
              "      <td>no dismissal</td>\n",
              "      <td>1</td>\n",
              "      <td>0</td>\n",
              "      <td>1</td>\n",
              "      <td>1</td>\n",
              "      <td>1</td>\n",
              "      <td>299</td>\n",
              "      <td>282</td>\n",
              "    </tr>\n",
              "    <tr>\n",
              "      <th>1</th>\n",
              "      <td>128025</td>\n",
              "      <td>1384392</td>\n",
              "      <td>2023/24</td>\n",
              "      <td>2023-10-05</td>\n",
              "      <td>Narendra Modi Stadium, Ahmedabad</td>\n",
              "      <td>1</td>\n",
              "      <td>0.2</td>\n",
              "      <td>England</td>\n",
              "      <td>New Zealand</td>\n",
              "      <td>JM Bairstow</td>\n",
              "      <td>...</td>\n",
              "      <td>no wicket</td>\n",
              "      <td>no dismissal</td>\n",
              "      <td>no dismissal</td>\n",
              "      <td>1</td>\n",
              "      <td>6</td>\n",
              "      <td>1</td>\n",
              "      <td>1</td>\n",
              "      <td>2</td>\n",
              "      <td>298</td>\n",
              "      <td>282</td>\n",
              "    </tr>\n",
              "    <tr>\n",
              "      <th>2</th>\n",
              "      <td>128026</td>\n",
              "      <td>1384392</td>\n",
              "      <td>2023/24</td>\n",
              "      <td>2023-10-05</td>\n",
              "      <td>Narendra Modi Stadium, Ahmedabad</td>\n",
              "      <td>1</td>\n",
              "      <td>0.3</td>\n",
              "      <td>England</td>\n",
              "      <td>New Zealand</td>\n",
              "      <td>JM Bairstow</td>\n",
              "      <td>...</td>\n",
              "      <td>no wicket</td>\n",
              "      <td>no dismissal</td>\n",
              "      <td>no dismissal</td>\n",
              "      <td>1</td>\n",
              "      <td>1</td>\n",
              "      <td>1</td>\n",
              "      <td>1</td>\n",
              "      <td>3</td>\n",
              "      <td>297</td>\n",
              "      <td>282</td>\n",
              "    </tr>\n",
              "    <tr>\n",
              "      <th>3</th>\n",
              "      <td>128027</td>\n",
              "      <td>1384392</td>\n",
              "      <td>2023/24</td>\n",
              "      <td>2023-10-05</td>\n",
              "      <td>Narendra Modi Stadium, Ahmedabad</td>\n",
              "      <td>1</td>\n",
              "      <td>0.4</td>\n",
              "      <td>England</td>\n",
              "      <td>New Zealand</td>\n",
              "      <td>DJ Malan</td>\n",
              "      <td>...</td>\n",
              "      <td>no wicket</td>\n",
              "      <td>no dismissal</td>\n",
              "      <td>no dismissal</td>\n",
              "      <td>1</td>\n",
              "      <td>1</td>\n",
              "      <td>1</td>\n",
              "      <td>1</td>\n",
              "      <td>4</td>\n",
              "      <td>296</td>\n",
              "      <td>282</td>\n",
              "    </tr>\n",
              "    <tr>\n",
              "      <th>4</th>\n",
              "      <td>128028</td>\n",
              "      <td>1384392</td>\n",
              "      <td>2023/24</td>\n",
              "      <td>2023-10-05</td>\n",
              "      <td>Narendra Modi Stadium, Ahmedabad</td>\n",
              "      <td>1</td>\n",
              "      <td>0.5</td>\n",
              "      <td>England</td>\n",
              "      <td>New Zealand</td>\n",
              "      <td>JM Bairstow</td>\n",
              "      <td>...</td>\n",
              "      <td>no wicket</td>\n",
              "      <td>no dismissal</td>\n",
              "      <td>no dismissal</td>\n",
              "      <td>1</td>\n",
              "      <td>4</td>\n",
              "      <td>1</td>\n",
              "      <td>1</td>\n",
              "      <td>5</td>\n",
              "      <td>295</td>\n",
              "      <td>282</td>\n",
              "    </tr>\n",
              "    <tr>\n",
              "      <th>...</th>\n",
              "      <td>...</td>\n",
              "      <td>...</td>\n",
              "      <td>...</td>\n",
              "      <td>...</td>\n",
              "      <td>...</td>\n",
              "      <td>...</td>\n",
              "      <td>...</td>\n",
              "      <td>...</td>\n",
              "      <td>...</td>\n",
              "      <td>...</td>\n",
              "      <td>...</td>\n",
              "      <td>...</td>\n",
              "      <td>...</td>\n",
              "      <td>...</td>\n",
              "      <td>...</td>\n",
              "      <td>...</td>\n",
              "      <td>...</td>\n",
              "      <td>...</td>\n",
              "      <td>...</td>\n",
              "      <td>...</td>\n",
              "      <td>...</td>\n",
              "    </tr>\n",
              "    <tr>\n",
              "      <th>22574</th>\n",
              "      <td>150598</td>\n",
              "      <td>1384433</td>\n",
              "      <td>2023/24</td>\n",
              "      <td>2023-11-10</td>\n",
              "      <td>Narendra Modi Stadium, Ahmedabad</td>\n",
              "      <td>2</td>\n",
              "      <td>46.6</td>\n",
              "      <td>South Africa</td>\n",
              "      <td>Afghanistan</td>\n",
              "      <td>AL Phehlukwayo</td>\n",
              "      <td>...</td>\n",
              "      <td>no wicket</td>\n",
              "      <td>no dismissal</td>\n",
              "      <td>no dismissal</td>\n",
              "      <td>42</td>\n",
              "      <td>1</td>\n",
              "      <td>1</td>\n",
              "      <td>47</td>\n",
              "      <td>6</td>\n",
              "      <td>18</td>\n",
              "      <td>247</td>\n",
              "    </tr>\n",
              "    <tr>\n",
              "      <th>22575</th>\n",
              "      <td>150599</td>\n",
              "      <td>1384433</td>\n",
              "      <td>2023/24</td>\n",
              "      <td>2023-11-10</td>\n",
              "      <td>Narendra Modi Stadium, Ahmedabad</td>\n",
              "      <td>2</td>\n",
              "      <td>46.7</td>\n",
              "      <td>South Africa</td>\n",
              "      <td>Afghanistan</td>\n",
              "      <td>HE van der Dussen</td>\n",
              "      <td>...</td>\n",
              "      <td>no wicket</td>\n",
              "      <td>no dismissal</td>\n",
              "      <td>no dismissal</td>\n",
              "      <td>42</td>\n",
              "      <td>2</td>\n",
              "      <td>1</td>\n",
              "      <td>47</td>\n",
              "      <td>7</td>\n",
              "      <td>17</td>\n",
              "      <td>247</td>\n",
              "    </tr>\n",
              "    <tr>\n",
              "      <th>22576</th>\n",
              "      <td>150600</td>\n",
              "      <td>1384433</td>\n",
              "      <td>2023/24</td>\n",
              "      <td>2023-11-10</td>\n",
              "      <td>Narendra Modi Stadium, Ahmedabad</td>\n",
              "      <td>2</td>\n",
              "      <td>47.1</td>\n",
              "      <td>South Africa</td>\n",
              "      <td>Afghanistan</td>\n",
              "      <td>AL Phehlukwayo</td>\n",
              "      <td>...</td>\n",
              "      <td>no wicket</td>\n",
              "      <td>no dismissal</td>\n",
              "      <td>no dismissal</td>\n",
              "      <td>42</td>\n",
              "      <td>6</td>\n",
              "      <td>1</td>\n",
              "      <td>48</td>\n",
              "      <td>1</td>\n",
              "      <td>17</td>\n",
              "      <td>247</td>\n",
              "    </tr>\n",
              "    <tr>\n",
              "      <th>22577</th>\n",
              "      <td>150601</td>\n",
              "      <td>1384433</td>\n",
              "      <td>2023/24</td>\n",
              "      <td>2023-11-10</td>\n",
              "      <td>Narendra Modi Stadium, Ahmedabad</td>\n",
              "      <td>2</td>\n",
              "      <td>47.2</td>\n",
              "      <td>South Africa</td>\n",
              "      <td>Afghanistan</td>\n",
              "      <td>AL Phehlukwayo</td>\n",
              "      <td>...</td>\n",
              "      <td>no wicket</td>\n",
              "      <td>no dismissal</td>\n",
              "      <td>no dismissal</td>\n",
              "      <td>42</td>\n",
              "      <td>4</td>\n",
              "      <td>1</td>\n",
              "      <td>48</td>\n",
              "      <td>2</td>\n",
              "      <td>16</td>\n",
              "      <td>247</td>\n",
              "    </tr>\n",
              "    <tr>\n",
              "      <th>22578</th>\n",
              "      <td>150602</td>\n",
              "      <td>1384433</td>\n",
              "      <td>2023/24</td>\n",
              "      <td>2023-11-10</td>\n",
              "      <td>Narendra Modi Stadium, Ahmedabad</td>\n",
              "      <td>2</td>\n",
              "      <td>47.3</td>\n",
              "      <td>South Africa</td>\n",
              "      <td>Afghanistan</td>\n",
              "      <td>AL Phehlukwayo</td>\n",
              "      <td>...</td>\n",
              "      <td>no wicket</td>\n",
              "      <td>no dismissal</td>\n",
              "      <td>no dismissal</td>\n",
              "      <td>42</td>\n",
              "      <td>6</td>\n",
              "      <td>1</td>\n",
              "      <td>48</td>\n",
              "      <td>3</td>\n",
              "      <td>15</td>\n",
              "      <td>247</td>\n",
              "    </tr>\n",
              "  </tbody>\n",
              "</table>\n",
              "<p>22579 rows × 30 columns</p>\n",
              "</div>"
            ],
            "text/plain": [
              "       Unnamed: 0  match_id   season  start_date  \\\n",
              "0          128024   1384392  2023/24  2023-10-05   \n",
              "1          128025   1384392  2023/24  2023-10-05   \n",
              "2          128026   1384392  2023/24  2023-10-05   \n",
              "3          128027   1384392  2023/24  2023-10-05   \n",
              "4          128028   1384392  2023/24  2023-10-05   \n",
              "...           ...       ...      ...         ...   \n",
              "22574      150598   1384433  2023/24  2023-11-10   \n",
              "22575      150599   1384433  2023/24  2023-11-10   \n",
              "22576      150600   1384433  2023/24  2023-11-10   \n",
              "22577      150601   1384433  2023/24  2023-11-10   \n",
              "22578      150602   1384433  2023/24  2023-11-10   \n",
              "\n",
              "                                  venue  innings  ball  batting_team  \\\n",
              "0      Narendra Modi Stadium, Ahmedabad        1   0.1       England   \n",
              "1      Narendra Modi Stadium, Ahmedabad        1   0.2       England   \n",
              "2      Narendra Modi Stadium, Ahmedabad        1   0.3       England   \n",
              "3      Narendra Modi Stadium, Ahmedabad        1   0.4       England   \n",
              "4      Narendra Modi Stadium, Ahmedabad        1   0.5       England   \n",
              "...                                 ...      ...   ...           ...   \n",
              "22574  Narendra Modi Stadium, Ahmedabad        2  46.6  South Africa   \n",
              "22575  Narendra Modi Stadium, Ahmedabad        2  46.7  South Africa   \n",
              "22576  Narendra Modi Stadium, Ahmedabad        2  47.1  South Africa   \n",
              "22577  Narendra Modi Stadium, Ahmedabad        2  47.2  South Africa   \n",
              "22578  Narendra Modi Stadium, Ahmedabad        2  47.3  South Africa   \n",
              "\n",
              "      bowling_team            striker  ... player_dismissed other_wicket_type  \\\n",
              "0      New Zealand        JM Bairstow  ...        no wicket      no dismissal   \n",
              "1      New Zealand        JM Bairstow  ...        no wicket      no dismissal   \n",
              "2      New Zealand        JM Bairstow  ...        no wicket      no dismissal   \n",
              "3      New Zealand           DJ Malan  ...        no wicket      no dismissal   \n",
              "4      New Zealand        JM Bairstow  ...        no wicket      no dismissal   \n",
              "...            ...                ...  ...              ...               ...   \n",
              "22574  Afghanistan     AL Phehlukwayo  ...        no wicket      no dismissal   \n",
              "22575  Afghanistan  HE van der Dussen  ...        no wicket      no dismissal   \n",
              "22576  Afghanistan     AL Phehlukwayo  ...        no wicket      no dismissal   \n",
              "22577  Afghanistan     AL Phehlukwayo  ...        no wicket      no dismissal   \n",
              "22578  Afghanistan     AL Phehlukwayo  ...        no wicket      no dismissal   \n",
              "\n",
              "       other_player_dismissed  match_number  total_runs  wicket  over  \\\n",
              "0                no dismissal             1           0       1     1   \n",
              "1                no dismissal             1           6       1     1   \n",
              "2                no dismissal             1           1       1     1   \n",
              "3                no dismissal             1           1       1     1   \n",
              "4                no dismissal             1           4       1     1   \n",
              "...                       ...           ...         ...     ...   ...   \n",
              "22574            no dismissal            42           1       1    47   \n",
              "22575            no dismissal            42           2       1    47   \n",
              "22576            no dismissal            42           6       1    48   \n",
              "22577            no dismissal            42           4       1    48   \n",
              "22578            no dismissal            42           6       1    48   \n",
              "\n",
              "       ball_num  ball_left innings_total  \n",
              "0             1        299           282  \n",
              "1             2        298           282  \n",
              "2             3        297           282  \n",
              "3             4        296           282  \n",
              "4             5        295           282  \n",
              "...         ...        ...           ...  \n",
              "22574         6         18           247  \n",
              "22575         7         17           247  \n",
              "22576         1         17           247  \n",
              "22577         2         16           247  \n",
              "22578         3         15           247  \n",
              "\n",
              "[22579 rows x 30 columns]"
            ]
          },
          "execution_count": 106,
          "metadata": {},
          "output_type": "execute_result"
        }
      ],
      "source": [
        "deliveries = data.merge(innings, on=[\"match_id\", \"innings\"])\n",
        "deliveries"
      ]
    },
    {
      "cell_type": "code",
      "execution_count": 107,
      "metadata": {
        "colab": {
          "base_uri": "https://localhost:8080/",
          "height": 981
        },
        "id": "360xcLWUiron",
        "outputId": "64efdda2-c192-49df-a423-23d722ab5f2b"
      },
      "outputs": [
        {
          "data": {
            "text/html": [
              "<div>\n",
              "<style scoped>\n",
              "    .dataframe tbody tr th:only-of-type {\n",
              "        vertical-align: middle;\n",
              "    }\n",
              "\n",
              "    .dataframe tbody tr th {\n",
              "        vertical-align: top;\n",
              "    }\n",
              "\n",
              "    .dataframe thead th {\n",
              "        text-align: right;\n",
              "    }\n",
              "</style>\n",
              "<table border=\"1\" class=\"dataframe\">\n",
              "  <thead>\n",
              "    <tr style=\"text-align: right;\">\n",
              "      <th></th>\n",
              "      <th>Unnamed: 0</th>\n",
              "      <th>match_id</th>\n",
              "      <th>season</th>\n",
              "      <th>start_date</th>\n",
              "      <th>venue</th>\n",
              "      <th>innings</th>\n",
              "      <th>ball</th>\n",
              "      <th>batting_team</th>\n",
              "      <th>bowling_team</th>\n",
              "      <th>striker</th>\n",
              "      <th>...</th>\n",
              "      <th>other_wicket_type</th>\n",
              "      <th>other_player_dismissed</th>\n",
              "      <th>match_number</th>\n",
              "      <th>total_runs</th>\n",
              "      <th>wicket</th>\n",
              "      <th>over</th>\n",
              "      <th>ball_num</th>\n",
              "      <th>ball_left</th>\n",
              "      <th>innings_total</th>\n",
              "      <th>cumulative_runs</th>\n",
              "    </tr>\n",
              "  </thead>\n",
              "  <tbody>\n",
              "    <tr>\n",
              "      <th>0</th>\n",
              "      <td>128024</td>\n",
              "      <td>1384392</td>\n",
              "      <td>2023/24</td>\n",
              "      <td>2023-10-05</td>\n",
              "      <td>Narendra Modi Stadium, Ahmedabad</td>\n",
              "      <td>1</td>\n",
              "      <td>0.1</td>\n",
              "      <td>England</td>\n",
              "      <td>New Zealand</td>\n",
              "      <td>JM Bairstow</td>\n",
              "      <td>...</td>\n",
              "      <td>no dismissal</td>\n",
              "      <td>no dismissal</td>\n",
              "      <td>1</td>\n",
              "      <td>0</td>\n",
              "      <td>1</td>\n",
              "      <td>1</td>\n",
              "      <td>1</td>\n",
              "      <td>299</td>\n",
              "      <td>282</td>\n",
              "      <td>0</td>\n",
              "    </tr>\n",
              "    <tr>\n",
              "      <th>1</th>\n",
              "      <td>128025</td>\n",
              "      <td>1384392</td>\n",
              "      <td>2023/24</td>\n",
              "      <td>2023-10-05</td>\n",
              "      <td>Narendra Modi Stadium, Ahmedabad</td>\n",
              "      <td>1</td>\n",
              "      <td>0.2</td>\n",
              "      <td>England</td>\n",
              "      <td>New Zealand</td>\n",
              "      <td>JM Bairstow</td>\n",
              "      <td>...</td>\n",
              "      <td>no dismissal</td>\n",
              "      <td>no dismissal</td>\n",
              "      <td>1</td>\n",
              "      <td>6</td>\n",
              "      <td>1</td>\n",
              "      <td>1</td>\n",
              "      <td>2</td>\n",
              "      <td>298</td>\n",
              "      <td>282</td>\n",
              "      <td>6</td>\n",
              "    </tr>\n",
              "    <tr>\n",
              "      <th>2</th>\n",
              "      <td>128026</td>\n",
              "      <td>1384392</td>\n",
              "      <td>2023/24</td>\n",
              "      <td>2023-10-05</td>\n",
              "      <td>Narendra Modi Stadium, Ahmedabad</td>\n",
              "      <td>1</td>\n",
              "      <td>0.3</td>\n",
              "      <td>England</td>\n",
              "      <td>New Zealand</td>\n",
              "      <td>JM Bairstow</td>\n",
              "      <td>...</td>\n",
              "      <td>no dismissal</td>\n",
              "      <td>no dismissal</td>\n",
              "      <td>1</td>\n",
              "      <td>1</td>\n",
              "      <td>1</td>\n",
              "      <td>1</td>\n",
              "      <td>3</td>\n",
              "      <td>297</td>\n",
              "      <td>282</td>\n",
              "      <td>7</td>\n",
              "    </tr>\n",
              "    <tr>\n",
              "      <th>3</th>\n",
              "      <td>128027</td>\n",
              "      <td>1384392</td>\n",
              "      <td>2023/24</td>\n",
              "      <td>2023-10-05</td>\n",
              "      <td>Narendra Modi Stadium, Ahmedabad</td>\n",
              "      <td>1</td>\n",
              "      <td>0.4</td>\n",
              "      <td>England</td>\n",
              "      <td>New Zealand</td>\n",
              "      <td>DJ Malan</td>\n",
              "      <td>...</td>\n",
              "      <td>no dismissal</td>\n",
              "      <td>no dismissal</td>\n",
              "      <td>1</td>\n",
              "      <td>1</td>\n",
              "      <td>1</td>\n",
              "      <td>1</td>\n",
              "      <td>4</td>\n",
              "      <td>296</td>\n",
              "      <td>282</td>\n",
              "      <td>8</td>\n",
              "    </tr>\n",
              "    <tr>\n",
              "      <th>4</th>\n",
              "      <td>128028</td>\n",
              "      <td>1384392</td>\n",
              "      <td>2023/24</td>\n",
              "      <td>2023-10-05</td>\n",
              "      <td>Narendra Modi Stadium, Ahmedabad</td>\n",
              "      <td>1</td>\n",
              "      <td>0.5</td>\n",
              "      <td>England</td>\n",
              "      <td>New Zealand</td>\n",
              "      <td>JM Bairstow</td>\n",
              "      <td>...</td>\n",
              "      <td>no dismissal</td>\n",
              "      <td>no dismissal</td>\n",
              "      <td>1</td>\n",
              "      <td>4</td>\n",
              "      <td>1</td>\n",
              "      <td>1</td>\n",
              "      <td>5</td>\n",
              "      <td>295</td>\n",
              "      <td>282</td>\n",
              "      <td>12</td>\n",
              "    </tr>\n",
              "    <tr>\n",
              "      <th>...</th>\n",
              "      <td>...</td>\n",
              "      <td>...</td>\n",
              "      <td>...</td>\n",
              "      <td>...</td>\n",
              "      <td>...</td>\n",
              "      <td>...</td>\n",
              "      <td>...</td>\n",
              "      <td>...</td>\n",
              "      <td>...</td>\n",
              "      <td>...</td>\n",
              "      <td>...</td>\n",
              "      <td>...</td>\n",
              "      <td>...</td>\n",
              "      <td>...</td>\n",
              "      <td>...</td>\n",
              "      <td>...</td>\n",
              "      <td>...</td>\n",
              "      <td>...</td>\n",
              "      <td>...</td>\n",
              "      <td>...</td>\n",
              "      <td>...</td>\n",
              "    </tr>\n",
              "    <tr>\n",
              "      <th>22574</th>\n",
              "      <td>150598</td>\n",
              "      <td>1384433</td>\n",
              "      <td>2023/24</td>\n",
              "      <td>2023-11-10</td>\n",
              "      <td>Narendra Modi Stadium, Ahmedabad</td>\n",
              "      <td>2</td>\n",
              "      <td>46.6</td>\n",
              "      <td>South Africa</td>\n",
              "      <td>Afghanistan</td>\n",
              "      <td>AL Phehlukwayo</td>\n",
              "      <td>...</td>\n",
              "      <td>no dismissal</td>\n",
              "      <td>no dismissal</td>\n",
              "      <td>42</td>\n",
              "      <td>1</td>\n",
              "      <td>1</td>\n",
              "      <td>47</td>\n",
              "      <td>6</td>\n",
              "      <td>18</td>\n",
              "      <td>247</td>\n",
              "      <td>229</td>\n",
              "    </tr>\n",
              "    <tr>\n",
              "      <th>22575</th>\n",
              "      <td>150599</td>\n",
              "      <td>1384433</td>\n",
              "      <td>2023/24</td>\n",
              "      <td>2023-11-10</td>\n",
              "      <td>Narendra Modi Stadium, Ahmedabad</td>\n",
              "      <td>2</td>\n",
              "      <td>46.7</td>\n",
              "      <td>South Africa</td>\n",
              "      <td>Afghanistan</td>\n",
              "      <td>HE van der Dussen</td>\n",
              "      <td>...</td>\n",
              "      <td>no dismissal</td>\n",
              "      <td>no dismissal</td>\n",
              "      <td>42</td>\n",
              "      <td>2</td>\n",
              "      <td>1</td>\n",
              "      <td>47</td>\n",
              "      <td>7</td>\n",
              "      <td>17</td>\n",
              "      <td>247</td>\n",
              "      <td>231</td>\n",
              "    </tr>\n",
              "    <tr>\n",
              "      <th>22576</th>\n",
              "      <td>150600</td>\n",
              "      <td>1384433</td>\n",
              "      <td>2023/24</td>\n",
              "      <td>2023-11-10</td>\n",
              "      <td>Narendra Modi Stadium, Ahmedabad</td>\n",
              "      <td>2</td>\n",
              "      <td>47.1</td>\n",
              "      <td>South Africa</td>\n",
              "      <td>Afghanistan</td>\n",
              "      <td>AL Phehlukwayo</td>\n",
              "      <td>...</td>\n",
              "      <td>no dismissal</td>\n",
              "      <td>no dismissal</td>\n",
              "      <td>42</td>\n",
              "      <td>6</td>\n",
              "      <td>1</td>\n",
              "      <td>48</td>\n",
              "      <td>1</td>\n",
              "      <td>17</td>\n",
              "      <td>247</td>\n",
              "      <td>237</td>\n",
              "    </tr>\n",
              "    <tr>\n",
              "      <th>22577</th>\n",
              "      <td>150601</td>\n",
              "      <td>1384433</td>\n",
              "      <td>2023/24</td>\n",
              "      <td>2023-11-10</td>\n",
              "      <td>Narendra Modi Stadium, Ahmedabad</td>\n",
              "      <td>2</td>\n",
              "      <td>47.2</td>\n",
              "      <td>South Africa</td>\n",
              "      <td>Afghanistan</td>\n",
              "      <td>AL Phehlukwayo</td>\n",
              "      <td>...</td>\n",
              "      <td>no dismissal</td>\n",
              "      <td>no dismissal</td>\n",
              "      <td>42</td>\n",
              "      <td>4</td>\n",
              "      <td>1</td>\n",
              "      <td>48</td>\n",
              "      <td>2</td>\n",
              "      <td>16</td>\n",
              "      <td>247</td>\n",
              "      <td>241</td>\n",
              "    </tr>\n",
              "    <tr>\n",
              "      <th>22578</th>\n",
              "      <td>150602</td>\n",
              "      <td>1384433</td>\n",
              "      <td>2023/24</td>\n",
              "      <td>2023-11-10</td>\n",
              "      <td>Narendra Modi Stadium, Ahmedabad</td>\n",
              "      <td>2</td>\n",
              "      <td>47.3</td>\n",
              "      <td>South Africa</td>\n",
              "      <td>Afghanistan</td>\n",
              "      <td>AL Phehlukwayo</td>\n",
              "      <td>...</td>\n",
              "      <td>no dismissal</td>\n",
              "      <td>no dismissal</td>\n",
              "      <td>42</td>\n",
              "      <td>6</td>\n",
              "      <td>1</td>\n",
              "      <td>48</td>\n",
              "      <td>3</td>\n",
              "      <td>15</td>\n",
              "      <td>247</td>\n",
              "      <td>247</td>\n",
              "    </tr>\n",
              "  </tbody>\n",
              "</table>\n",
              "<p>22579 rows × 31 columns</p>\n",
              "</div>"
            ],
            "text/plain": [
              "       Unnamed: 0  match_id   season  start_date  \\\n",
              "0          128024   1384392  2023/24  2023-10-05   \n",
              "1          128025   1384392  2023/24  2023-10-05   \n",
              "2          128026   1384392  2023/24  2023-10-05   \n",
              "3          128027   1384392  2023/24  2023-10-05   \n",
              "4          128028   1384392  2023/24  2023-10-05   \n",
              "...           ...       ...      ...         ...   \n",
              "22574      150598   1384433  2023/24  2023-11-10   \n",
              "22575      150599   1384433  2023/24  2023-11-10   \n",
              "22576      150600   1384433  2023/24  2023-11-10   \n",
              "22577      150601   1384433  2023/24  2023-11-10   \n",
              "22578      150602   1384433  2023/24  2023-11-10   \n",
              "\n",
              "                                  venue  innings  ball  batting_team  \\\n",
              "0      Narendra Modi Stadium, Ahmedabad        1   0.1       England   \n",
              "1      Narendra Modi Stadium, Ahmedabad        1   0.2       England   \n",
              "2      Narendra Modi Stadium, Ahmedabad        1   0.3       England   \n",
              "3      Narendra Modi Stadium, Ahmedabad        1   0.4       England   \n",
              "4      Narendra Modi Stadium, Ahmedabad        1   0.5       England   \n",
              "...                                 ...      ...   ...           ...   \n",
              "22574  Narendra Modi Stadium, Ahmedabad        2  46.6  South Africa   \n",
              "22575  Narendra Modi Stadium, Ahmedabad        2  46.7  South Africa   \n",
              "22576  Narendra Modi Stadium, Ahmedabad        2  47.1  South Africa   \n",
              "22577  Narendra Modi Stadium, Ahmedabad        2  47.2  South Africa   \n",
              "22578  Narendra Modi Stadium, Ahmedabad        2  47.3  South Africa   \n",
              "\n",
              "      bowling_team            striker  ... other_wicket_type  \\\n",
              "0      New Zealand        JM Bairstow  ...      no dismissal   \n",
              "1      New Zealand        JM Bairstow  ...      no dismissal   \n",
              "2      New Zealand        JM Bairstow  ...      no dismissal   \n",
              "3      New Zealand           DJ Malan  ...      no dismissal   \n",
              "4      New Zealand        JM Bairstow  ...      no dismissal   \n",
              "...            ...                ...  ...               ...   \n",
              "22574  Afghanistan     AL Phehlukwayo  ...      no dismissal   \n",
              "22575  Afghanistan  HE van der Dussen  ...      no dismissal   \n",
              "22576  Afghanistan     AL Phehlukwayo  ...      no dismissal   \n",
              "22577  Afghanistan     AL Phehlukwayo  ...      no dismissal   \n",
              "22578  Afghanistan     AL Phehlukwayo  ...      no dismissal   \n",
              "\n",
              "      other_player_dismissed  match_number  total_runs  wicket  over  \\\n",
              "0               no dismissal             1           0       1     1   \n",
              "1               no dismissal             1           6       1     1   \n",
              "2               no dismissal             1           1       1     1   \n",
              "3               no dismissal             1           1       1     1   \n",
              "4               no dismissal             1           4       1     1   \n",
              "...                      ...           ...         ...     ...   ...   \n",
              "22574           no dismissal            42           1       1    47   \n",
              "22575           no dismissal            42           2       1    47   \n",
              "22576           no dismissal            42           6       1    48   \n",
              "22577           no dismissal            42           4       1    48   \n",
              "22578           no dismissal            42           6       1    48   \n",
              "\n",
              "       ball_num  ball_left  innings_total cumulative_runs  \n",
              "0             1        299            282               0  \n",
              "1             2        298            282               6  \n",
              "2             3        297            282               7  \n",
              "3             4        296            282               8  \n",
              "4             5        295            282              12  \n",
              "...         ...        ...            ...             ...  \n",
              "22574         6         18            247             229  \n",
              "22575         7         17            247             231  \n",
              "22576         1         17            247             237  \n",
              "22577         2         16            247             241  \n",
              "22578         3         15            247             247  \n",
              "\n",
              "[22579 rows x 31 columns]"
            ]
          },
          "execution_count": 107,
          "metadata": {},
          "output_type": "execute_result"
        }
      ],
      "source": [
        "deliveries[\"cumulative_runs\"] = deliveries.groupby([\"match_id\", \"innings\"])[\"total_runs\"].cumsum()\n",
        "deliveries"
      ]
    },
    {
      "cell_type": "code",
      "execution_count": 108,
      "metadata": {
        "id": "5DK8p8E5iuq8"
      },
      "outputs": [],
      "source": [
        "#creating run rate column\n",
        "deliveries[\"run_rate\"] = deliveries.groupby([\"match_id\",\"innings\"]).apply(lambda x: (x[\"cumulative_runs\"]*6)/(300-x[\"ball_left\"])).reset_index(level=[0,1], drop=True)"
      ]
    },
    {
      "cell_type": "code",
      "execution_count": 109,
      "metadata": {
        "colab": {
          "base_uri": "https://localhost:8080/",
          "height": 981
        },
        "id": "VRQKvHRjdBfY",
        "outputId": "b1685f0d-0679-4a72-d358-4bcbdea2cce7"
      },
      "outputs": [
        {
          "data": {
            "text/html": [
              "<div>\n",
              "<style scoped>\n",
              "    .dataframe tbody tr th:only-of-type {\n",
              "        vertical-align: middle;\n",
              "    }\n",
              "\n",
              "    .dataframe tbody tr th {\n",
              "        vertical-align: top;\n",
              "    }\n",
              "\n",
              "    .dataframe thead th {\n",
              "        text-align: right;\n",
              "    }\n",
              "</style>\n",
              "<table border=\"1\" class=\"dataframe\">\n",
              "  <thead>\n",
              "    <tr style=\"text-align: right;\">\n",
              "      <th></th>\n",
              "      <th>Unnamed: 0</th>\n",
              "      <th>match_id</th>\n",
              "      <th>season</th>\n",
              "      <th>start_date</th>\n",
              "      <th>venue</th>\n",
              "      <th>innings</th>\n",
              "      <th>ball</th>\n",
              "      <th>batting_team</th>\n",
              "      <th>bowling_team</th>\n",
              "      <th>striker</th>\n",
              "      <th>...</th>\n",
              "      <th>other_player_dismissed</th>\n",
              "      <th>match_number</th>\n",
              "      <th>total_runs</th>\n",
              "      <th>wicket</th>\n",
              "      <th>over</th>\n",
              "      <th>ball_num</th>\n",
              "      <th>ball_left</th>\n",
              "      <th>innings_total</th>\n",
              "      <th>cumulative_runs</th>\n",
              "      <th>run_rate</th>\n",
              "    </tr>\n",
              "  </thead>\n",
              "  <tbody>\n",
              "    <tr>\n",
              "      <th>0</th>\n",
              "      <td>128024</td>\n",
              "      <td>1384392</td>\n",
              "      <td>2023/24</td>\n",
              "      <td>2023-10-05</td>\n",
              "      <td>Narendra Modi Stadium, Ahmedabad</td>\n",
              "      <td>1</td>\n",
              "      <td>0.1</td>\n",
              "      <td>England</td>\n",
              "      <td>New Zealand</td>\n",
              "      <td>JM Bairstow</td>\n",
              "      <td>...</td>\n",
              "      <td>no dismissal</td>\n",
              "      <td>1</td>\n",
              "      <td>0</td>\n",
              "      <td>1</td>\n",
              "      <td>1</td>\n",
              "      <td>1</td>\n",
              "      <td>299</td>\n",
              "      <td>282</td>\n",
              "      <td>0</td>\n",
              "      <td>0.000000</td>\n",
              "    </tr>\n",
              "    <tr>\n",
              "      <th>1</th>\n",
              "      <td>128025</td>\n",
              "      <td>1384392</td>\n",
              "      <td>2023/24</td>\n",
              "      <td>2023-10-05</td>\n",
              "      <td>Narendra Modi Stadium, Ahmedabad</td>\n",
              "      <td>1</td>\n",
              "      <td>0.2</td>\n",
              "      <td>England</td>\n",
              "      <td>New Zealand</td>\n",
              "      <td>JM Bairstow</td>\n",
              "      <td>...</td>\n",
              "      <td>no dismissal</td>\n",
              "      <td>1</td>\n",
              "      <td>6</td>\n",
              "      <td>1</td>\n",
              "      <td>1</td>\n",
              "      <td>2</td>\n",
              "      <td>298</td>\n",
              "      <td>282</td>\n",
              "      <td>6</td>\n",
              "      <td>18.000000</td>\n",
              "    </tr>\n",
              "    <tr>\n",
              "      <th>2</th>\n",
              "      <td>128026</td>\n",
              "      <td>1384392</td>\n",
              "      <td>2023/24</td>\n",
              "      <td>2023-10-05</td>\n",
              "      <td>Narendra Modi Stadium, Ahmedabad</td>\n",
              "      <td>1</td>\n",
              "      <td>0.3</td>\n",
              "      <td>England</td>\n",
              "      <td>New Zealand</td>\n",
              "      <td>JM Bairstow</td>\n",
              "      <td>...</td>\n",
              "      <td>no dismissal</td>\n",
              "      <td>1</td>\n",
              "      <td>1</td>\n",
              "      <td>1</td>\n",
              "      <td>1</td>\n",
              "      <td>3</td>\n",
              "      <td>297</td>\n",
              "      <td>282</td>\n",
              "      <td>7</td>\n",
              "      <td>14.000000</td>\n",
              "    </tr>\n",
              "    <tr>\n",
              "      <th>3</th>\n",
              "      <td>128027</td>\n",
              "      <td>1384392</td>\n",
              "      <td>2023/24</td>\n",
              "      <td>2023-10-05</td>\n",
              "      <td>Narendra Modi Stadium, Ahmedabad</td>\n",
              "      <td>1</td>\n",
              "      <td>0.4</td>\n",
              "      <td>England</td>\n",
              "      <td>New Zealand</td>\n",
              "      <td>DJ Malan</td>\n",
              "      <td>...</td>\n",
              "      <td>no dismissal</td>\n",
              "      <td>1</td>\n",
              "      <td>1</td>\n",
              "      <td>1</td>\n",
              "      <td>1</td>\n",
              "      <td>4</td>\n",
              "      <td>296</td>\n",
              "      <td>282</td>\n",
              "      <td>8</td>\n",
              "      <td>12.000000</td>\n",
              "    </tr>\n",
              "    <tr>\n",
              "      <th>4</th>\n",
              "      <td>128028</td>\n",
              "      <td>1384392</td>\n",
              "      <td>2023/24</td>\n",
              "      <td>2023-10-05</td>\n",
              "      <td>Narendra Modi Stadium, Ahmedabad</td>\n",
              "      <td>1</td>\n",
              "      <td>0.5</td>\n",
              "      <td>England</td>\n",
              "      <td>New Zealand</td>\n",
              "      <td>JM Bairstow</td>\n",
              "      <td>...</td>\n",
              "      <td>no dismissal</td>\n",
              "      <td>1</td>\n",
              "      <td>4</td>\n",
              "      <td>1</td>\n",
              "      <td>1</td>\n",
              "      <td>5</td>\n",
              "      <td>295</td>\n",
              "      <td>282</td>\n",
              "      <td>12</td>\n",
              "      <td>14.400000</td>\n",
              "    </tr>\n",
              "    <tr>\n",
              "      <th>...</th>\n",
              "      <td>...</td>\n",
              "      <td>...</td>\n",
              "      <td>...</td>\n",
              "      <td>...</td>\n",
              "      <td>...</td>\n",
              "      <td>...</td>\n",
              "      <td>...</td>\n",
              "      <td>...</td>\n",
              "      <td>...</td>\n",
              "      <td>...</td>\n",
              "      <td>...</td>\n",
              "      <td>...</td>\n",
              "      <td>...</td>\n",
              "      <td>...</td>\n",
              "      <td>...</td>\n",
              "      <td>...</td>\n",
              "      <td>...</td>\n",
              "      <td>...</td>\n",
              "      <td>...</td>\n",
              "      <td>...</td>\n",
              "      <td>...</td>\n",
              "    </tr>\n",
              "    <tr>\n",
              "      <th>22574</th>\n",
              "      <td>150598</td>\n",
              "      <td>1384433</td>\n",
              "      <td>2023/24</td>\n",
              "      <td>2023-11-10</td>\n",
              "      <td>Narendra Modi Stadium, Ahmedabad</td>\n",
              "      <td>2</td>\n",
              "      <td>46.6</td>\n",
              "      <td>South Africa</td>\n",
              "      <td>Afghanistan</td>\n",
              "      <td>AL Phehlukwayo</td>\n",
              "      <td>...</td>\n",
              "      <td>no dismissal</td>\n",
              "      <td>42</td>\n",
              "      <td>1</td>\n",
              "      <td>1</td>\n",
              "      <td>47</td>\n",
              "      <td>6</td>\n",
              "      <td>18</td>\n",
              "      <td>247</td>\n",
              "      <td>229</td>\n",
              "      <td>4.872340</td>\n",
              "    </tr>\n",
              "    <tr>\n",
              "      <th>22575</th>\n",
              "      <td>150599</td>\n",
              "      <td>1384433</td>\n",
              "      <td>2023/24</td>\n",
              "      <td>2023-11-10</td>\n",
              "      <td>Narendra Modi Stadium, Ahmedabad</td>\n",
              "      <td>2</td>\n",
              "      <td>46.7</td>\n",
              "      <td>South Africa</td>\n",
              "      <td>Afghanistan</td>\n",
              "      <td>HE van der Dussen</td>\n",
              "      <td>...</td>\n",
              "      <td>no dismissal</td>\n",
              "      <td>42</td>\n",
              "      <td>2</td>\n",
              "      <td>1</td>\n",
              "      <td>47</td>\n",
              "      <td>7</td>\n",
              "      <td>17</td>\n",
              "      <td>247</td>\n",
              "      <td>231</td>\n",
              "      <td>4.897527</td>\n",
              "    </tr>\n",
              "    <tr>\n",
              "      <th>22576</th>\n",
              "      <td>150600</td>\n",
              "      <td>1384433</td>\n",
              "      <td>2023/24</td>\n",
              "      <td>2023-11-10</td>\n",
              "      <td>Narendra Modi Stadium, Ahmedabad</td>\n",
              "      <td>2</td>\n",
              "      <td>47.1</td>\n",
              "      <td>South Africa</td>\n",
              "      <td>Afghanistan</td>\n",
              "      <td>AL Phehlukwayo</td>\n",
              "      <td>...</td>\n",
              "      <td>no dismissal</td>\n",
              "      <td>42</td>\n",
              "      <td>6</td>\n",
              "      <td>1</td>\n",
              "      <td>48</td>\n",
              "      <td>1</td>\n",
              "      <td>17</td>\n",
              "      <td>247</td>\n",
              "      <td>237</td>\n",
              "      <td>5.024735</td>\n",
              "    </tr>\n",
              "    <tr>\n",
              "      <th>22577</th>\n",
              "      <td>150601</td>\n",
              "      <td>1384433</td>\n",
              "      <td>2023/24</td>\n",
              "      <td>2023-11-10</td>\n",
              "      <td>Narendra Modi Stadium, Ahmedabad</td>\n",
              "      <td>2</td>\n",
              "      <td>47.2</td>\n",
              "      <td>South Africa</td>\n",
              "      <td>Afghanistan</td>\n",
              "      <td>AL Phehlukwayo</td>\n",
              "      <td>...</td>\n",
              "      <td>no dismissal</td>\n",
              "      <td>42</td>\n",
              "      <td>4</td>\n",
              "      <td>1</td>\n",
              "      <td>48</td>\n",
              "      <td>2</td>\n",
              "      <td>16</td>\n",
              "      <td>247</td>\n",
              "      <td>241</td>\n",
              "      <td>5.091549</td>\n",
              "    </tr>\n",
              "    <tr>\n",
              "      <th>22578</th>\n",
              "      <td>150602</td>\n",
              "      <td>1384433</td>\n",
              "      <td>2023/24</td>\n",
              "      <td>2023-11-10</td>\n",
              "      <td>Narendra Modi Stadium, Ahmedabad</td>\n",
              "      <td>2</td>\n",
              "      <td>47.3</td>\n",
              "      <td>South Africa</td>\n",
              "      <td>Afghanistan</td>\n",
              "      <td>AL Phehlukwayo</td>\n",
              "      <td>...</td>\n",
              "      <td>no dismissal</td>\n",
              "      <td>42</td>\n",
              "      <td>6</td>\n",
              "      <td>1</td>\n",
              "      <td>48</td>\n",
              "      <td>3</td>\n",
              "      <td>15</td>\n",
              "      <td>247</td>\n",
              "      <td>247</td>\n",
              "      <td>5.200000</td>\n",
              "    </tr>\n",
              "  </tbody>\n",
              "</table>\n",
              "<p>22579 rows × 32 columns</p>\n",
              "</div>"
            ],
            "text/plain": [
              "       Unnamed: 0  match_id   season  start_date  \\\n",
              "0          128024   1384392  2023/24  2023-10-05   \n",
              "1          128025   1384392  2023/24  2023-10-05   \n",
              "2          128026   1384392  2023/24  2023-10-05   \n",
              "3          128027   1384392  2023/24  2023-10-05   \n",
              "4          128028   1384392  2023/24  2023-10-05   \n",
              "...           ...       ...      ...         ...   \n",
              "22574      150598   1384433  2023/24  2023-11-10   \n",
              "22575      150599   1384433  2023/24  2023-11-10   \n",
              "22576      150600   1384433  2023/24  2023-11-10   \n",
              "22577      150601   1384433  2023/24  2023-11-10   \n",
              "22578      150602   1384433  2023/24  2023-11-10   \n",
              "\n",
              "                                  venue  innings  ball  batting_team  \\\n",
              "0      Narendra Modi Stadium, Ahmedabad        1   0.1       England   \n",
              "1      Narendra Modi Stadium, Ahmedabad        1   0.2       England   \n",
              "2      Narendra Modi Stadium, Ahmedabad        1   0.3       England   \n",
              "3      Narendra Modi Stadium, Ahmedabad        1   0.4       England   \n",
              "4      Narendra Modi Stadium, Ahmedabad        1   0.5       England   \n",
              "...                                 ...      ...   ...           ...   \n",
              "22574  Narendra Modi Stadium, Ahmedabad        2  46.6  South Africa   \n",
              "22575  Narendra Modi Stadium, Ahmedabad        2  46.7  South Africa   \n",
              "22576  Narendra Modi Stadium, Ahmedabad        2  47.1  South Africa   \n",
              "22577  Narendra Modi Stadium, Ahmedabad        2  47.2  South Africa   \n",
              "22578  Narendra Modi Stadium, Ahmedabad        2  47.3  South Africa   \n",
              "\n",
              "      bowling_team            striker  ... other_player_dismissed  \\\n",
              "0      New Zealand        JM Bairstow  ...           no dismissal   \n",
              "1      New Zealand        JM Bairstow  ...           no dismissal   \n",
              "2      New Zealand        JM Bairstow  ...           no dismissal   \n",
              "3      New Zealand           DJ Malan  ...           no dismissal   \n",
              "4      New Zealand        JM Bairstow  ...           no dismissal   \n",
              "...            ...                ...  ...                    ...   \n",
              "22574  Afghanistan     AL Phehlukwayo  ...           no dismissal   \n",
              "22575  Afghanistan  HE van der Dussen  ...           no dismissal   \n",
              "22576  Afghanistan     AL Phehlukwayo  ...           no dismissal   \n",
              "22577  Afghanistan     AL Phehlukwayo  ...           no dismissal   \n",
              "22578  Afghanistan     AL Phehlukwayo  ...           no dismissal   \n",
              "\n",
              "      match_number  total_runs  wicket  over  ball_num  ball_left  \\\n",
              "0                1           0       1     1         1        299   \n",
              "1                1           6       1     1         2        298   \n",
              "2                1           1       1     1         3        297   \n",
              "3                1           1       1     1         4        296   \n",
              "4                1           4       1     1         5        295   \n",
              "...            ...         ...     ...   ...       ...        ...   \n",
              "22574           42           1       1    47         6         18   \n",
              "22575           42           2       1    47         7         17   \n",
              "22576           42           6       1    48         1         17   \n",
              "22577           42           4       1    48         2         16   \n",
              "22578           42           6       1    48         3         15   \n",
              "\n",
              "       innings_total  cumulative_runs   run_rate  \n",
              "0                282                0   0.000000  \n",
              "1                282                6  18.000000  \n",
              "2                282                7  14.000000  \n",
              "3                282                8  12.000000  \n",
              "4                282               12  14.400000  \n",
              "...              ...              ...        ...  \n",
              "22574            247              229   4.872340  \n",
              "22575            247              231   4.897527  \n",
              "22576            247              237   5.024735  \n",
              "22577            247              241   5.091549  \n",
              "22578            247              247   5.200000  \n",
              "\n",
              "[22579 rows x 32 columns]"
            ]
          },
          "execution_count": 109,
          "metadata": {},
          "output_type": "execute_result"
        }
      ],
      "source": [
        "deliveries"
      ]
    },
    {
      "cell_type": "code",
      "execution_count": 110,
      "metadata": {
        "id": "Kh90NVuLiyf0"
      },
      "outputs": [],
      "source": [
        "# Defining a colum of Target given by the Team Batting in Innings 1\n",
        "innings_1 = deliveries[deliveries[\"innings\"] == 1]\n",
        "\n",
        "innings_1 = innings_1.groupby(\"match_id\")[\"cumulative_runs\"].max().reset_index()\n",
        "innings_1.rename(columns={\"cumulative_runs\": \"target\"}, inplace=True)\n",
        "\n",
        "innings_2 = deliveries[deliveries[\"innings\"] == 2]\n",
        "innings_2 = innings_2.merge(innings_1, on=\"match_id\", how=\"left\")\n",
        "innings_2[\"target\"] = innings_2[\"target\"]+1"
      ]
    },
    {
      "cell_type": "code",
      "execution_count": 111,
      "metadata": {
        "id": "0KPV3mIei2Nu"
      },
      "outputs": [],
      "source": [
        "#Making columns for Runs Needed and the Required Run Rate to achieve that target.\n",
        "innings_2[\"runs_needed\"] = innings_2[\"target\"] - innings_2[\"cumulative_runs\"]\n",
        "innings_2[\"required_run_rate\"] = (innings_2[\"runs_needed\"]*6) / innings_2[\"ball_left\"]"
      ]
    },
    {
      "cell_type": "code",
      "execution_count": 112,
      "metadata": {
        "id": "QoSc10aci_6P"
      },
      "outputs": [],
      "source": [
        "#Adding wickets remaining for Innings 1\n",
        "innings_1_f = deliveries[deliveries[\"innings\"] == 1]\n",
        "# innings_1_f[\"wickets_remaining\"] = innings_1_f.groupby(\"match_id\")[\"wicket\"].apply(lambda x: 10 - x.cumsum()).reset_index(level=0, drop=True)"
      ]
    },
    {
      "cell_type": "code",
      "execution_count": 113,
      "metadata": {
        "id": "grqcIJVmjBNy"
      },
      "outputs": [],
      "source": [
        "#concatinating innings1,2\n",
        "innings = pd.concat([innings_1_f,innings_2])"
      ]
    },
    {
      "cell_type": "code",
      "execution_count": 114,
      "metadata": {
        "colab": {
          "base_uri": "https://localhost:8080/",
          "height": 981
        },
        "id": "XG0C1Fe8apfu",
        "outputId": "3be9e62a-12d1-4740-84c3-65558340934a"
      },
      "outputs": [
        {
          "data": {
            "text/html": [
              "<div>\n",
              "<style scoped>\n",
              "    .dataframe tbody tr th:only-of-type {\n",
              "        vertical-align: middle;\n",
              "    }\n",
              "\n",
              "    .dataframe tbody tr th {\n",
              "        vertical-align: top;\n",
              "    }\n",
              "\n",
              "    .dataframe thead th {\n",
              "        text-align: right;\n",
              "    }\n",
              "</style>\n",
              "<table border=\"1\" class=\"dataframe\">\n",
              "  <thead>\n",
              "    <tr style=\"text-align: right;\">\n",
              "      <th></th>\n",
              "      <th>Unnamed: 0</th>\n",
              "      <th>match_id</th>\n",
              "      <th>season</th>\n",
              "      <th>start_date</th>\n",
              "      <th>venue</th>\n",
              "      <th>innings</th>\n",
              "      <th>ball</th>\n",
              "      <th>batting_team</th>\n",
              "      <th>bowling_team</th>\n",
              "      <th>striker</th>\n",
              "      <th>...</th>\n",
              "      <th>wicket</th>\n",
              "      <th>over</th>\n",
              "      <th>ball_num</th>\n",
              "      <th>ball_left</th>\n",
              "      <th>innings_total</th>\n",
              "      <th>cumulative_runs</th>\n",
              "      <th>run_rate</th>\n",
              "      <th>target</th>\n",
              "      <th>runs_needed</th>\n",
              "      <th>required_run_rate</th>\n",
              "    </tr>\n",
              "  </thead>\n",
              "  <tbody>\n",
              "    <tr>\n",
              "      <th>0</th>\n",
              "      <td>128024</td>\n",
              "      <td>1384392</td>\n",
              "      <td>2023/24</td>\n",
              "      <td>2023-10-05</td>\n",
              "      <td>Narendra Modi Stadium, Ahmedabad</td>\n",
              "      <td>1</td>\n",
              "      <td>0.1</td>\n",
              "      <td>England</td>\n",
              "      <td>New Zealand</td>\n",
              "      <td>JM Bairstow</td>\n",
              "      <td>...</td>\n",
              "      <td>1</td>\n",
              "      <td>1</td>\n",
              "      <td>1</td>\n",
              "      <td>299</td>\n",
              "      <td>282</td>\n",
              "      <td>0</td>\n",
              "      <td>0.000000</td>\n",
              "      <td>NaN</td>\n",
              "      <td>NaN</td>\n",
              "      <td>NaN</td>\n",
              "    </tr>\n",
              "    <tr>\n",
              "      <th>1</th>\n",
              "      <td>128025</td>\n",
              "      <td>1384392</td>\n",
              "      <td>2023/24</td>\n",
              "      <td>2023-10-05</td>\n",
              "      <td>Narendra Modi Stadium, Ahmedabad</td>\n",
              "      <td>1</td>\n",
              "      <td>0.2</td>\n",
              "      <td>England</td>\n",
              "      <td>New Zealand</td>\n",
              "      <td>JM Bairstow</td>\n",
              "      <td>...</td>\n",
              "      <td>1</td>\n",
              "      <td>1</td>\n",
              "      <td>2</td>\n",
              "      <td>298</td>\n",
              "      <td>282</td>\n",
              "      <td>6</td>\n",
              "      <td>18.000000</td>\n",
              "      <td>NaN</td>\n",
              "      <td>NaN</td>\n",
              "      <td>NaN</td>\n",
              "    </tr>\n",
              "    <tr>\n",
              "      <th>2</th>\n",
              "      <td>128026</td>\n",
              "      <td>1384392</td>\n",
              "      <td>2023/24</td>\n",
              "      <td>2023-10-05</td>\n",
              "      <td>Narendra Modi Stadium, Ahmedabad</td>\n",
              "      <td>1</td>\n",
              "      <td>0.3</td>\n",
              "      <td>England</td>\n",
              "      <td>New Zealand</td>\n",
              "      <td>JM Bairstow</td>\n",
              "      <td>...</td>\n",
              "      <td>1</td>\n",
              "      <td>1</td>\n",
              "      <td>3</td>\n",
              "      <td>297</td>\n",
              "      <td>282</td>\n",
              "      <td>7</td>\n",
              "      <td>14.000000</td>\n",
              "      <td>NaN</td>\n",
              "      <td>NaN</td>\n",
              "      <td>NaN</td>\n",
              "    </tr>\n",
              "    <tr>\n",
              "      <th>3</th>\n",
              "      <td>128027</td>\n",
              "      <td>1384392</td>\n",
              "      <td>2023/24</td>\n",
              "      <td>2023-10-05</td>\n",
              "      <td>Narendra Modi Stadium, Ahmedabad</td>\n",
              "      <td>1</td>\n",
              "      <td>0.4</td>\n",
              "      <td>England</td>\n",
              "      <td>New Zealand</td>\n",
              "      <td>DJ Malan</td>\n",
              "      <td>...</td>\n",
              "      <td>1</td>\n",
              "      <td>1</td>\n",
              "      <td>4</td>\n",
              "      <td>296</td>\n",
              "      <td>282</td>\n",
              "      <td>8</td>\n",
              "      <td>12.000000</td>\n",
              "      <td>NaN</td>\n",
              "      <td>NaN</td>\n",
              "      <td>NaN</td>\n",
              "    </tr>\n",
              "    <tr>\n",
              "      <th>4</th>\n",
              "      <td>128028</td>\n",
              "      <td>1384392</td>\n",
              "      <td>2023/24</td>\n",
              "      <td>2023-10-05</td>\n",
              "      <td>Narendra Modi Stadium, Ahmedabad</td>\n",
              "      <td>1</td>\n",
              "      <td>0.5</td>\n",
              "      <td>England</td>\n",
              "      <td>New Zealand</td>\n",
              "      <td>JM Bairstow</td>\n",
              "      <td>...</td>\n",
              "      <td>1</td>\n",
              "      <td>1</td>\n",
              "      <td>5</td>\n",
              "      <td>295</td>\n",
              "      <td>282</td>\n",
              "      <td>12</td>\n",
              "      <td>14.400000</td>\n",
              "      <td>NaN</td>\n",
              "      <td>NaN</td>\n",
              "      <td>NaN</td>\n",
              "    </tr>\n",
              "    <tr>\n",
              "      <th>...</th>\n",
              "      <td>...</td>\n",
              "      <td>...</td>\n",
              "      <td>...</td>\n",
              "      <td>...</td>\n",
              "      <td>...</td>\n",
              "      <td>...</td>\n",
              "      <td>...</td>\n",
              "      <td>...</td>\n",
              "      <td>...</td>\n",
              "      <td>...</td>\n",
              "      <td>...</td>\n",
              "      <td>...</td>\n",
              "      <td>...</td>\n",
              "      <td>...</td>\n",
              "      <td>...</td>\n",
              "      <td>...</td>\n",
              "      <td>...</td>\n",
              "      <td>...</td>\n",
              "      <td>...</td>\n",
              "      <td>...</td>\n",
              "      <td>...</td>\n",
              "    </tr>\n",
              "    <tr>\n",
              "      <th>10025</th>\n",
              "      <td>150598</td>\n",
              "      <td>1384433</td>\n",
              "      <td>2023/24</td>\n",
              "      <td>2023-11-10</td>\n",
              "      <td>Narendra Modi Stadium, Ahmedabad</td>\n",
              "      <td>2</td>\n",
              "      <td>46.6</td>\n",
              "      <td>South Africa</td>\n",
              "      <td>Afghanistan</td>\n",
              "      <td>AL Phehlukwayo</td>\n",
              "      <td>...</td>\n",
              "      <td>1</td>\n",
              "      <td>47</td>\n",
              "      <td>6</td>\n",
              "      <td>18</td>\n",
              "      <td>247</td>\n",
              "      <td>229</td>\n",
              "      <td>4.872340</td>\n",
              "      <td>245.0</td>\n",
              "      <td>16.0</td>\n",
              "      <td>5.333333</td>\n",
              "    </tr>\n",
              "    <tr>\n",
              "      <th>10026</th>\n",
              "      <td>150599</td>\n",
              "      <td>1384433</td>\n",
              "      <td>2023/24</td>\n",
              "      <td>2023-11-10</td>\n",
              "      <td>Narendra Modi Stadium, Ahmedabad</td>\n",
              "      <td>2</td>\n",
              "      <td>46.7</td>\n",
              "      <td>South Africa</td>\n",
              "      <td>Afghanistan</td>\n",
              "      <td>HE van der Dussen</td>\n",
              "      <td>...</td>\n",
              "      <td>1</td>\n",
              "      <td>47</td>\n",
              "      <td>7</td>\n",
              "      <td>17</td>\n",
              "      <td>247</td>\n",
              "      <td>231</td>\n",
              "      <td>4.897527</td>\n",
              "      <td>245.0</td>\n",
              "      <td>14.0</td>\n",
              "      <td>4.941176</td>\n",
              "    </tr>\n",
              "    <tr>\n",
              "      <th>10027</th>\n",
              "      <td>150600</td>\n",
              "      <td>1384433</td>\n",
              "      <td>2023/24</td>\n",
              "      <td>2023-11-10</td>\n",
              "      <td>Narendra Modi Stadium, Ahmedabad</td>\n",
              "      <td>2</td>\n",
              "      <td>47.1</td>\n",
              "      <td>South Africa</td>\n",
              "      <td>Afghanistan</td>\n",
              "      <td>AL Phehlukwayo</td>\n",
              "      <td>...</td>\n",
              "      <td>1</td>\n",
              "      <td>48</td>\n",
              "      <td>1</td>\n",
              "      <td>17</td>\n",
              "      <td>247</td>\n",
              "      <td>237</td>\n",
              "      <td>5.024735</td>\n",
              "      <td>245.0</td>\n",
              "      <td>8.0</td>\n",
              "      <td>2.823529</td>\n",
              "    </tr>\n",
              "    <tr>\n",
              "      <th>10028</th>\n",
              "      <td>150601</td>\n",
              "      <td>1384433</td>\n",
              "      <td>2023/24</td>\n",
              "      <td>2023-11-10</td>\n",
              "      <td>Narendra Modi Stadium, Ahmedabad</td>\n",
              "      <td>2</td>\n",
              "      <td>47.2</td>\n",
              "      <td>South Africa</td>\n",
              "      <td>Afghanistan</td>\n",
              "      <td>AL Phehlukwayo</td>\n",
              "      <td>...</td>\n",
              "      <td>1</td>\n",
              "      <td>48</td>\n",
              "      <td>2</td>\n",
              "      <td>16</td>\n",
              "      <td>247</td>\n",
              "      <td>241</td>\n",
              "      <td>5.091549</td>\n",
              "      <td>245.0</td>\n",
              "      <td>4.0</td>\n",
              "      <td>1.500000</td>\n",
              "    </tr>\n",
              "    <tr>\n",
              "      <th>10029</th>\n",
              "      <td>150602</td>\n",
              "      <td>1384433</td>\n",
              "      <td>2023/24</td>\n",
              "      <td>2023-11-10</td>\n",
              "      <td>Narendra Modi Stadium, Ahmedabad</td>\n",
              "      <td>2</td>\n",
              "      <td>47.3</td>\n",
              "      <td>South Africa</td>\n",
              "      <td>Afghanistan</td>\n",
              "      <td>AL Phehlukwayo</td>\n",
              "      <td>...</td>\n",
              "      <td>1</td>\n",
              "      <td>48</td>\n",
              "      <td>3</td>\n",
              "      <td>15</td>\n",
              "      <td>247</td>\n",
              "      <td>247</td>\n",
              "      <td>5.200000</td>\n",
              "      <td>245.0</td>\n",
              "      <td>-2.0</td>\n",
              "      <td>-0.800000</td>\n",
              "    </tr>\n",
              "  </tbody>\n",
              "</table>\n",
              "<p>22579 rows × 35 columns</p>\n",
              "</div>"
            ],
            "text/plain": [
              "       Unnamed: 0  match_id   season  start_date  \\\n",
              "0          128024   1384392  2023/24  2023-10-05   \n",
              "1          128025   1384392  2023/24  2023-10-05   \n",
              "2          128026   1384392  2023/24  2023-10-05   \n",
              "3          128027   1384392  2023/24  2023-10-05   \n",
              "4          128028   1384392  2023/24  2023-10-05   \n",
              "...           ...       ...      ...         ...   \n",
              "10025      150598   1384433  2023/24  2023-11-10   \n",
              "10026      150599   1384433  2023/24  2023-11-10   \n",
              "10027      150600   1384433  2023/24  2023-11-10   \n",
              "10028      150601   1384433  2023/24  2023-11-10   \n",
              "10029      150602   1384433  2023/24  2023-11-10   \n",
              "\n",
              "                                  venue  innings  ball  batting_team  \\\n",
              "0      Narendra Modi Stadium, Ahmedabad        1   0.1       England   \n",
              "1      Narendra Modi Stadium, Ahmedabad        1   0.2       England   \n",
              "2      Narendra Modi Stadium, Ahmedabad        1   0.3       England   \n",
              "3      Narendra Modi Stadium, Ahmedabad        1   0.4       England   \n",
              "4      Narendra Modi Stadium, Ahmedabad        1   0.5       England   \n",
              "...                                 ...      ...   ...           ...   \n",
              "10025  Narendra Modi Stadium, Ahmedabad        2  46.6  South Africa   \n",
              "10026  Narendra Modi Stadium, Ahmedabad        2  46.7  South Africa   \n",
              "10027  Narendra Modi Stadium, Ahmedabad        2  47.1  South Africa   \n",
              "10028  Narendra Modi Stadium, Ahmedabad        2  47.2  South Africa   \n",
              "10029  Narendra Modi Stadium, Ahmedabad        2  47.3  South Africa   \n",
              "\n",
              "      bowling_team            striker  ... wicket over  ball_num  ball_left  \\\n",
              "0      New Zealand        JM Bairstow  ...      1    1         1        299   \n",
              "1      New Zealand        JM Bairstow  ...      1    1         2        298   \n",
              "2      New Zealand        JM Bairstow  ...      1    1         3        297   \n",
              "3      New Zealand           DJ Malan  ...      1    1         4        296   \n",
              "4      New Zealand        JM Bairstow  ...      1    1         5        295   \n",
              "...            ...                ...  ...    ...  ...       ...        ...   \n",
              "10025  Afghanistan     AL Phehlukwayo  ...      1   47         6         18   \n",
              "10026  Afghanistan  HE van der Dussen  ...      1   47         7         17   \n",
              "10027  Afghanistan     AL Phehlukwayo  ...      1   48         1         17   \n",
              "10028  Afghanistan     AL Phehlukwayo  ...      1   48         2         16   \n",
              "10029  Afghanistan     AL Phehlukwayo  ...      1   48         3         15   \n",
              "\n",
              "       innings_total  cumulative_runs   run_rate  target  runs_needed  \\\n",
              "0                282                0   0.000000     NaN          NaN   \n",
              "1                282                6  18.000000     NaN          NaN   \n",
              "2                282                7  14.000000     NaN          NaN   \n",
              "3                282                8  12.000000     NaN          NaN   \n",
              "4                282               12  14.400000     NaN          NaN   \n",
              "...              ...              ...        ...     ...          ...   \n",
              "10025            247              229   4.872340   245.0         16.0   \n",
              "10026            247              231   4.897527   245.0         14.0   \n",
              "10027            247              237   5.024735   245.0          8.0   \n",
              "10028            247              241   5.091549   245.0          4.0   \n",
              "10029            247              247   5.200000   245.0         -2.0   \n",
              "\n",
              "      required_run_rate  \n",
              "0                   NaN  \n",
              "1                   NaN  \n",
              "2                   NaN  \n",
              "3                   NaN  \n",
              "4                   NaN  \n",
              "...                 ...  \n",
              "10025          5.333333  \n",
              "10026          4.941176  \n",
              "10027          2.823529  \n",
              "10028          1.500000  \n",
              "10029         -0.800000  \n",
              "\n",
              "[22579 rows x 35 columns]"
            ]
          },
          "execution_count": 114,
          "metadata": {},
          "output_type": "execute_result"
        }
      ],
      "source": [
        "innings"
      ]
    },
    {
      "cell_type": "code",
      "execution_count": 115,
      "metadata": {
        "colab": {
          "base_uri": "https://localhost:8080/"
        },
        "id": "1f20Z6B_hCOE",
        "outputId": "45f7b12a-acf8-4ce3-8100-0639117ec89c"
      },
      "outputs": [
        {
          "data": {
            "text/plain": [
              "Unnamed: 0                    0\n",
              "match_id                      0\n",
              "season                        0\n",
              "start_date                    0\n",
              "venue                         0\n",
              "innings                       0\n",
              "ball                          0\n",
              "batting_team                  0\n",
              "bowling_team                  0\n",
              "striker                       0\n",
              "non_striker                   0\n",
              "bowler                        0\n",
              "runs_off_bat                  0\n",
              "extras                        0\n",
              "wides                         0\n",
              "noballs                       0\n",
              "byes                          0\n",
              "legbyes                       0\n",
              "penalty                       0\n",
              "wicket_type                   0\n",
              "player_dismissed              0\n",
              "other_wicket_type             0\n",
              "other_player_dismissed        0\n",
              "match_number                  0\n",
              "total_runs                    0\n",
              "wicket                        0\n",
              "over                          0\n",
              "ball_num                      0\n",
              "ball_left                     0\n",
              "innings_total                 0\n",
              "cumulative_runs               0\n",
              "run_rate                      0\n",
              "target                    12549\n",
              "runs_needed               12549\n",
              "required_run_rate         12549\n",
              "dtype: int64"
            ]
          },
          "execution_count": 115,
          "metadata": {},
          "output_type": "execute_result"
        }
      ],
      "source": [
        "innings.isna().sum()"
      ]
    },
    {
      "cell_type": "code",
      "execution_count": 116,
      "metadata": {
        "colab": {
          "base_uri": "https://localhost:8080/"
        },
        "id": "Ut25vLI5iHIf",
        "outputId": "3c1dc413-b6ec-49ad-bf53-e30a5b1df39a"
      },
      "outputs": [
        {
          "data": {
            "text/plain": [
              "Index(['season', 'team1', 'team2', 'date', 'match_number', 'venue', 'city',\n",
              "       'winner', 'winner_runs', 'winner_wickets'],\n",
              "      dtype='object')"
            ]
          },
          "execution_count": 116,
          "metadata": {},
          "output_type": "execute_result"
        }
      ],
      "source": [
        "matches.columns"
      ]
    },
    {
      "cell_type": "code",
      "execution_count": 117,
      "metadata": {
        "id": "v3unP775hc77"
      },
      "outputs": [],
      "source": [
        "#merging with matches data to get winners and other data that can help our model\n",
        "innings = innings.merge(matches[[\"match_number\",\"winner\", \"winner_runs\", \"winner_wickets\"]], on=\"match_number\")"
      ]
    },
    {
      "cell_type": "code",
      "execution_count": 118,
      "metadata": {
        "id": "_5um9y-wkjPA"
      },
      "outputs": [],
      "source": [
        "innings[\"result\"] = innings.apply(lambda x: 1 if x[\"batting_team\"] == x[\"winner\"] else 0, axis=1)"
      ]
    },
    {
      "cell_type": "code",
      "execution_count": 119,
      "metadata": {
        "colab": {
          "base_uri": "https://localhost:8080/"
        },
        "id": "7wZJo3XDm9r7",
        "outputId": "3434fbde-bf0a-4b6d-c907-6bad1ecb185f"
      },
      "outputs": [
        {
          "data": {
            "text/plain": [
              "Unnamed: 0                    0\n",
              "match_id                      0\n",
              "season                        0\n",
              "start_date                    0\n",
              "venue                         0\n",
              "innings                       0\n",
              "ball                          0\n",
              "batting_team                  0\n",
              "bowling_team                  0\n",
              "striker                       0\n",
              "non_striker                   0\n",
              "bowler                        0\n",
              "runs_off_bat                  0\n",
              "extras                        0\n",
              "wides                         0\n",
              "noballs                       0\n",
              "byes                          0\n",
              "legbyes                       0\n",
              "penalty                       0\n",
              "wicket_type                   0\n",
              "player_dismissed              0\n",
              "other_wicket_type             0\n",
              "other_player_dismissed        0\n",
              "match_number                  0\n",
              "total_runs                    0\n",
              "wicket                        0\n",
              "over                          0\n",
              "ball_num                      0\n",
              "ball_left                     0\n",
              "innings_total                 0\n",
              "cumulative_runs               0\n",
              "run_rate                      0\n",
              "target                    12549\n",
              "runs_needed               12549\n",
              "required_run_rate         12549\n",
              "winner                        0\n",
              "winner_runs                   0\n",
              "winner_wickets                0\n",
              "result                        0\n",
              "dtype: int64"
            ]
          },
          "execution_count": 119,
          "metadata": {},
          "output_type": "execute_result"
        }
      ],
      "source": [
        "innings.isna().sum()"
      ]
    },
    {
      "cell_type": "code",
      "execution_count": 120,
      "metadata": {
        "id": "dxrznfhynFKE"
      },
      "outputs": [],
      "source": [
        "innings.fillna(0, inplace=True)"
      ]
    },
    {
      "cell_type": "code",
      "execution_count": 121,
      "metadata": {
        "id": "m79QIL1jiV1S"
      },
      "outputs": [],
      "source": [
        "innings = innings.sample(frac=1)"
      ]
    },
    {
      "cell_type": "code",
      "execution_count": 122,
      "metadata": {},
      "outputs": [],
      "source": [
        "innings.to_csv('datasets/innings.csv')"
      ]
    },
    {
      "cell_type": "markdown",
      "metadata": {
        "id": "Av0h-6Tpllun"
      },
      "source": [
        "Building the Model"
      ]
    },
    {
      "cell_type": "code",
      "execution_count": 123,
      "metadata": {
        "id": "-RUphsMGlsD1"
      },
      "outputs": [],
      "source": [
        "#Defining model data for prediction\n",
        "model_cols = innings[[\"venue\", \"batting_team\", \"bowling_team\", \"ball\", \"innings_total\", \"run_rate\", \"required_run_rate\",\n",
        "                      \"ball_left\", \"runs_needed\", \"target\", \"result\"]]"
      ]
    },
    {
      "cell_type": "code",
      "execution_count": 124,
      "metadata": {
        "id": "wsuTY41GlnxF"
      },
      "outputs": [],
      "source": [
        "import pandas as pd\n",
        "import tensorflow as tf\n",
        "from sklearn.model_selection import train_test_split\n",
        "from sklearn.preprocessing import StandardScaler, LabelEncoder, OneHotEncoder\n",
        "from sklearn.compose import ColumnTransformer\n",
        "from sklearn.pipeline import Pipeline\n",
        "from tensorflow.keras.models import Sequential\n",
        "from tensorflow.keras.layers import Dense, Dropout\n",
        "from tensorflow.keras.utils import to_categorical\n",
        "\n",
        "\n",
        "# Extract features and target variable\n",
        "X = model_cols.drop(\"result\", axis=1)  # Features\n",
        "y = model_cols[\"result\"]  # Target variable"
      ]
    },
    {
      "cell_type": "code",
      "execution_count": 125,
      "metadata": {},
      "outputs": [
        {
          "data": {
            "text/plain": [
              "venue                 object\n",
              "batting_team          object\n",
              "bowling_team          object\n",
              "ball                 float64\n",
              "innings_total          int64\n",
              "run_rate             float64\n",
              "required_run_rate    float64\n",
              "ball_left              int32\n",
              "runs_needed          float64\n",
              "target               float64\n",
              "dtype: object"
            ]
          },
          "execution_count": 125,
          "metadata": {},
          "output_type": "execute_result"
        }
      ],
      "source": [
        "X.dtypes"
      ]
    },
    {
      "cell_type": "code",
      "execution_count": 126,
      "metadata": {
        "id": "zOFxGvxxmH6V"
      },
      "outputs": [],
      "source": [
        "categorical_cols = [\"venue\", \"batting_team\", \"bowling_team\"]\n",
        "numeric_cols = list(set(X.columns) - set(categorical_cols))\n",
        "\n",
        "\n",
        "# Create transformers for preprocessing\n",
        "numeric_transformer = Pipeline(steps=[(\"scaler\", StandardScaler())])\n",
        "categorical_transformer = Pipeline(steps=[\n",
        "    (\"label_encoder\", OneHotEncoder(handle_unknown='ignore'))\n",
        "])\n",
        "\n",
        "# Combine transformers\n",
        "preprocessor = ColumnTransformer(\n",
        "    transformers=[\n",
        "        (\"num\", numeric_transformer, numeric_cols),\n",
        "        (\"cat\", categorical_transformer, categorical_cols)\n",
        "    ]\n",
        ")"
      ]
    },
    {
      "cell_type": "code",
      "execution_count": 127,
      "metadata": {},
      "outputs": [
        {
          "data": {
            "text/plain": [
              "['required_run_rate',\n",
              " 'runs_needed',\n",
              " 'run_rate',\n",
              " 'target',\n",
              " 'innings_total',\n",
              " 'ball',\n",
              " 'ball_left']"
            ]
          },
          "execution_count": 127,
          "metadata": {},
          "output_type": "execute_result"
        }
      ],
      "source": [
        "numeric_cols"
      ]
    },
    {
      "cell_type": "code",
      "execution_count": 128,
      "metadata": {
        "id": "MYWks_Jlmfhz"
      },
      "outputs": [],
      "source": [
        "X_train, X_test, y_train, y_test = train_test_split(X, y, test_size=0.2, random_state=42)"
      ]
    },
    {
      "cell_type": "code",
      "execution_count": 129,
      "metadata": {
        "colab": {
          "base_uri": "https://localhost:8080/"
        },
        "id": "9t5Cdy1DpDFC",
        "outputId": "90bea123-8131-40af-9b9b-bf18bf3772e2"
      },
      "outputs": [
        {
          "name": "stdout",
          "output_type": "stream",
          "text": [
            "10\n"
          ]
        }
      ],
      "source": [
        "print(X_train.shape[1])"
      ]
    },
    {
      "cell_type": "code",
      "execution_count": 130,
      "metadata": {},
      "outputs": [],
      "source": [
        "X_train['required_run_rate'] = X_train['required_run_rate'].replace(np.inf, -1)"
      ]
    },
    {
      "cell_type": "code",
      "execution_count": 131,
      "metadata": {},
      "outputs": [
        {
          "data": {
            "text/plain": [
              "venue                 object\n",
              "batting_team          object\n",
              "bowling_team          object\n",
              "ball                 float64\n",
              "innings_total          int64\n",
              "run_rate             float64\n",
              "required_run_rate    float64\n",
              "ball_left              int32\n",
              "runs_needed          float64\n",
              "target               float64\n",
              "dtype: object"
            ]
          },
          "execution_count": 131,
          "metadata": {},
          "output_type": "execute_result"
        }
      ],
      "source": [
        "X_train.dtypes"
      ]
    },
    {
      "cell_type": "code",
      "execution_count": 132,
      "metadata": {},
      "outputs": [
        {
          "data": {
            "text/plain": [
              "(18063, 10)"
            ]
          },
          "execution_count": 132,
          "metadata": {},
          "output_type": "execute_result"
        }
      ],
      "source": [
        "X_train.shape"
      ]
    },
    {
      "cell_type": "code",
      "execution_count": 133,
      "metadata": {
        "colab": {
          "base_uri": "https://localhost:8080/"
        },
        "id": "vFs6z-1Gq7DM",
        "outputId": "88121a48-8a2c-4fd7-af92-b486d237f70d"
      },
      "outputs": [
        {
          "data": {
            "text/plain": [
              "(18063, 37)"
            ]
          },
          "execution_count": 133,
          "metadata": {},
          "output_type": "execute_result"
        }
      ],
      "source": [
        "# Preprocess the training and testing data\n",
        "X_train_preprocessed = preprocessor.fit_transform(X_train)\n",
        "# X_test_preprocessed = preprocessor.transform(X_test)\n",
        "X_train_preprocessed.shape"
      ]
    },
    {
      "cell_type": "code",
      "execution_count": 134,
      "metadata": {
        "colab": {
          "base_uri": "https://localhost:8080/"
        },
        "id": "eXB5YV_XyN9N",
        "outputId": "dea6866f-a514-488a-bf9e-7dc3208ceab4"
      },
      "outputs": [
        {
          "name": "stdout",
          "output_type": "stream",
          "text": [
            "venue                  0\n",
            "batting_team           0\n",
            "bowling_team           0\n",
            "ball                 0.0\n",
            "innings_total        0.0\n",
            "run_rate             0.0\n",
            "required_run_rate    inf\n",
            "ball_left            0.0\n",
            "runs_needed          0.0\n",
            "target               0.0\n",
            "dtype: object\n"
          ]
        }
      ],
      "source": [
        "print(X_test[X_test.isin([np.nan, np.inf, -np.inf])].sum())"
      ]
    },
    {
      "cell_type": "code",
      "execution_count": 135,
      "metadata": {},
      "outputs": [
        {
          "data": {
            "text/plain": [
              "Index(['venue', 'batting_team', 'bowling_team', 'ball', 'innings_total',\n",
              "       'run_rate', 'required_run_rate', 'ball_left', 'runs_needed', 'target'],\n",
              "      dtype='object')"
            ]
          },
          "execution_count": 135,
          "metadata": {},
          "output_type": "execute_result"
        }
      ],
      "source": [
        "X_train.columns"
      ]
    },
    {
      "cell_type": "code",
      "execution_count": 136,
      "metadata": {
        "id": "nnUooPVrzZqt"
      },
      "outputs": [],
      "source": [
        "X_test['required_run_rate'] = X_test['required_run_rate'].replace(np.inf, -1)"
      ]
    },
    {
      "cell_type": "code",
      "execution_count": 143,
      "metadata": {
        "colab": {
          "base_uri": "https://localhost:8080/"
        },
        "id": "w96_dxO8mdiK",
        "outputId": "86624d99-b7b7-4b9f-8833-fafa53efb347"
      },
      "outputs": [
        {
          "name": "stdout",
          "output_type": "stream",
          "text": [
            "Epoch 1/10\n",
            "1807/1807 [==============================] - 3s 2ms/step - loss: 0.3098 - accuracy: 0.8941 - val_loss: 0.0383 - val_accuracy: 0.9989\n",
            "Epoch 2/10\n",
            "1807/1807 [==============================] - 3s 2ms/step - loss: 0.0824 - accuracy: 0.9829 - val_loss: 0.0026 - val_accuracy: 1.0000\n",
            "Epoch 3/10\n",
            "1807/1807 [==============================] - 3s 1ms/step - loss: 0.0567 - accuracy: 0.9837 - val_loss: 0.0011 - val_accuracy: 1.0000\n",
            "Epoch 4/10\n",
            "1807/1807 [==============================] - 3s 1ms/step - loss: 0.0463 - accuracy: 0.9862 - val_loss: 3.3262e-04 - val_accuracy: 1.0000\n",
            "Epoch 5/10\n",
            "1807/1807 [==============================] - 3s 1ms/step - loss: 0.0421 - accuracy: 0.9880 - val_loss: 1.8962e-04 - val_accuracy: 1.0000\n",
            "Epoch 6/10\n",
            "1807/1807 [==============================] - 3s 1ms/step - loss: 0.0413 - accuracy: 0.9878 - val_loss: 8.8904e-05 - val_accuracy: 1.0000\n",
            "Epoch 7/10\n",
            "1807/1807 [==============================] - 3s 2ms/step - loss: 0.0314 - accuracy: 0.9922 - val_loss: 7.4045e-05 - val_accuracy: 1.0000\n",
            "Epoch 8/10\n",
            "1807/1807 [==============================] - 3s 2ms/step - loss: 0.0282 - accuracy: 0.9928 - val_loss: 3.5263e-05 - val_accuracy: 1.0000\n",
            "Epoch 9/10\n",
            "1807/1807 [==============================] - 3s 1ms/step - loss: 0.0327 - accuracy: 0.9912 - val_loss: 1.6517e-05 - val_accuracy: 1.0000\n",
            "Epoch 10/10\n",
            "1807/1807 [==============================] - 3s 1ms/step - loss: 0.0302 - accuracy: 0.9922 - val_loss: 1.0036e-05 - val_accuracy: 1.0000\n"
          ]
        },
        {
          "data": {
            "text/plain": [
              "<keras.callbacks.History at 0x2b5f114f8e0>"
            ]
          },
          "execution_count": 143,
          "metadata": {},
          "output_type": "execute_result"
        }
      ],
      "source": [
        "# Define the deep learning model\n",
        "model = Sequential()\n",
        "model.add(Dense(32, input_dim=X_train_preprocessed.shape[1], activation='relu'))\n",
        "model.add(Dense(8, activation='relu'))\n",
        "model.add(Dropout(0.5))  # Adding dropout with a rate of 0.5\n",
        "model.add(Dense(1, activation='sigmoid'))  # Assuming binary classification\n",
        "\n",
        "# Compile the model\n",
        "model.compile(optimizer='adam', loss='binary_crossentropy', metrics=['accuracy'])\n",
        "\n",
        "# Convert the sparse matrix to a dense matrix\n",
        "X_train_preprocessed_dense = X_train_preprocessed.toarray()\n",
        "\n",
        "# Fit the model\n",
        "model.fit(X_train_preprocessed_dense, y_train, epochs=10, batch_size=8, validation_split=0.2)\n"
      ]
    },
    {
      "cell_type": "code",
      "execution_count": 144,
      "metadata": {},
      "outputs": [
        {
          "data": {
            "text/plain": [
              "array([['M Chinnaswamy Stadium, Bengaluru', 'England', 'Sri Lanka', 32.3,\n",
              "        156, 4.6461538461538465, 0.0, 105, 0.0, 0.0],\n",
              "       ['MA Chidambaram Stadium, Chepauk, Chennai', 'Bangladesh',\n",
              "        'New Zealand', 0.1, 245, 0.0, 0.0, 299, 0.0, 0.0],\n",
              "       ['M Chinnaswamy Stadium, Bengaluru', 'Sri Lanka', 'New Zealand',\n",
              "        14.5, 171, 6.337078651685394, 0.0, 211, 0.0, 0.0],\n",
              "       ['Maharashtra Cricket Association Stadium, Pune', 'Afghanistan',\n",
              "        'Sri Lanka', 28.3, 242, 4.807017543859649, 4.883720930232558,\n",
              "        129, 105.0, 242.0],\n",
              "       ['M Chinnaswamy Stadium, Bengaluru', 'Sri Lanka', 'New Zealand',\n",
              "        32.4, 171, 3.979591836734694, 0.0, 104, 0.0, 0.0],\n",
              "       ['Narendra Modi Stadium, Ahmedabad', 'New Zealand', 'England',\n",
              "        11.2, 283, 8.205882352941176, 4.913793103448276, 232, 190.0,\n",
              "        283.0],\n",
              "       ['Rajiv Gandhi International Stadium, Uppal, Hyderabad',\n",
              "        'Sri Lanka', 'Pakistan', 32.2, 344, 7.237113402061856, 0.0, 106,\n",
              "        0.0, 0.0],\n",
              "       ['Wankhede Stadium, Mumbai', 'South Africa', 'England', 31.3, 399,\n",
              "        6.476190476190476, 0.0, 111, 0.0, 0.0],\n",
              "       ['Rajiv Gandhi International Stadium, Uppal, Hyderabad',\n",
              "        'Netherlands', 'Pakistan', 6.4, 205, 4.35, 5.953846153846154,\n",
              "        260, 258.0, 287.0],\n",
              "       ['Bharat Ratna Shri Atal Bihari Vajpayee Ekana Cricket Stadium, Lucknow',\n",
              "        'South Africa', 'Australia', 18.6, 311, 5.526315789473684, 0.0,\n",
              "        186, 0.0, 0.0]], dtype=object)"
            ]
          },
          "execution_count": 144,
          "metadata": {},
          "output_type": "execute_result"
        }
      ],
      "source": [
        "X_test[:10].values"
      ]
    },
    {
      "cell_type": "code",
      "execution_count": 147,
      "metadata": {
        "colab": {
          "base_uri": "https://localhost:8080/"
        },
        "id": "lDfa_r6DrbRI",
        "outputId": "f9bc33db-e3a1-4352-94d7-923dbf3d5312"
      },
      "outputs": [
        {
          "name": "stdout",
          "output_type": "stream",
          "text": [
            "142/142 [==============================] - 0s 1ms/step - loss: 1.0012e-05 - accuracy: 1.0000\n",
            "Accuracy: 1.00\n"
          ]
        }
      ],
      "source": [
        "# Evaluate the model\n",
        "accuracy = model.evaluate(preprocessor.transform(X_test).toarray(), y_test)[1]\n",
        "print(f\"Accuracy: {accuracy:.2f}\")"
      ]
    },
    {
      "cell_type": "markdown",
      "metadata": {
        "id": "jFZ9b0b30TFp"
      },
      "source": [
        "For Deployment Purpose, training with the complete dataset"
      ]
    },
    {
      "cell_type": "code",
      "execution_count": 148,
      "metadata": {
        "id": "fOSissVh0Vu1"
      },
      "outputs": [],
      "source": [
        "# Extract features and target variable\n",
        "X = model_cols.drop(\"result\", axis=1)  # Features\n",
        "y = model_cols[\"result\"]  # Target variable"
      ]
    },
    {
      "cell_type": "code",
      "execution_count": 149,
      "metadata": {
        "id": "izEJT3fP0pGq"
      },
      "outputs": [],
      "source": [
        "X['required_run_rate'] = X['required_run_rate'].replace(np.inf, -1)"
      ]
    },
    {
      "cell_type": "code",
      "execution_count": 150,
      "metadata": {},
      "outputs": [
        {
          "data": {
            "text/html": [
              "<div>\n",
              "<style scoped>\n",
              "    .dataframe tbody tr th:only-of-type {\n",
              "        vertical-align: middle;\n",
              "    }\n",
              "\n",
              "    .dataframe tbody tr th {\n",
              "        vertical-align: top;\n",
              "    }\n",
              "\n",
              "    .dataframe thead th {\n",
              "        text-align: right;\n",
              "    }\n",
              "</style>\n",
              "<table border=\"1\" class=\"dataframe\">\n",
              "  <thead>\n",
              "    <tr style=\"text-align: right;\">\n",
              "      <th></th>\n",
              "      <th>venue</th>\n",
              "      <th>batting_team</th>\n",
              "      <th>bowling_team</th>\n",
              "      <th>ball</th>\n",
              "      <th>innings_total</th>\n",
              "      <th>run_rate</th>\n",
              "      <th>required_run_rate</th>\n",
              "      <th>ball_left</th>\n",
              "      <th>runs_needed</th>\n",
              "      <th>target</th>\n",
              "    </tr>\n",
              "  </thead>\n",
              "  <tbody>\n",
              "    <tr>\n",
              "      <th>1226</th>\n",
              "      <td>Himachal Pradesh Cricket Association Stadium, ...</td>\n",
              "      <td>Afghanistan</td>\n",
              "      <td>Bangladesh</td>\n",
              "      <td>23.4</td>\n",
              "      <td>156</td>\n",
              "      <td>4.690141</td>\n",
              "      <td>0.0</td>\n",
              "      <td>158</td>\n",
              "      <td>0.0</td>\n",
              "      <td>0.0</td>\n",
              "    </tr>\n",
              "    <tr>\n",
              "      <th>7892</th>\n",
              "      <td>MA Chidambaram Stadium, Chepauk, Chennai</td>\n",
              "      <td>New Zealand</td>\n",
              "      <td>Afghanistan</td>\n",
              "      <td>49.2</td>\n",
              "      <td>288</td>\n",
              "      <td>5.675676</td>\n",
              "      <td>0.0</td>\n",
              "      <td>4</td>\n",
              "      <td>0.0</td>\n",
              "      <td>0.0</td>\n",
              "    </tr>\n",
              "    <tr>\n",
              "      <th>13207</th>\n",
              "      <td>M Chinnaswamy Stadium, Bengaluru</td>\n",
              "      <td>England</td>\n",
              "      <td>Sri Lanka</td>\n",
              "      <td>9.5</td>\n",
              "      <td>156</td>\n",
              "      <td>5.796610</td>\n",
              "      <td>0.0</td>\n",
              "      <td>241</td>\n",
              "      <td>0.0</td>\n",
              "      <td>0.0</td>\n",
              "    </tr>\n",
              "    <tr>\n",
              "      <th>17393</th>\n",
              "      <td>Wankhede Stadium, Mumbai</td>\n",
              "      <td>India</td>\n",
              "      <td>Sri Lanka</td>\n",
              "      <td>2.2</td>\n",
              "      <td>357</td>\n",
              "      <td>5.142857</td>\n",
              "      <td>0.0</td>\n",
              "      <td>286</td>\n",
              "      <td>0.0</td>\n",
              "      <td>0.0</td>\n",
              "    </tr>\n",
              "    <tr>\n",
              "      <th>15417</th>\n",
              "      <td>Bharat Ratna Shri Atal Bihari Vajpayee Ekana C...</td>\n",
              "      <td>India</td>\n",
              "      <td>England</td>\n",
              "      <td>22.3</td>\n",
              "      <td>229</td>\n",
              "      <td>3.600000</td>\n",
              "      <td>0.0</td>\n",
              "      <td>165</td>\n",
              "      <td>0.0</td>\n",
              "      <td>0.0</td>\n",
              "    </tr>\n",
              "  </tbody>\n",
              "</table>\n",
              "</div>"
            ],
            "text/plain": [
              "                                                   venue batting_team  \\\n",
              "1226   Himachal Pradesh Cricket Association Stadium, ...  Afghanistan   \n",
              "7892            MA Chidambaram Stadium, Chepauk, Chennai  New Zealand   \n",
              "13207                   M Chinnaswamy Stadium, Bengaluru      England   \n",
              "17393                           Wankhede Stadium, Mumbai        India   \n",
              "15417  Bharat Ratna Shri Atal Bihari Vajpayee Ekana C...        India   \n",
              "\n",
              "      bowling_team  ball  innings_total  run_rate  required_run_rate  \\\n",
              "1226    Bangladesh  23.4            156  4.690141                0.0   \n",
              "7892   Afghanistan  49.2            288  5.675676                0.0   \n",
              "13207    Sri Lanka   9.5            156  5.796610                0.0   \n",
              "17393    Sri Lanka   2.2            357  5.142857                0.0   \n",
              "15417      England  22.3            229  3.600000                0.0   \n",
              "\n",
              "       ball_left  runs_needed  target  \n",
              "1226         158          0.0     0.0  \n",
              "7892           4          0.0     0.0  \n",
              "13207        241          0.0     0.0  \n",
              "17393        286          0.0     0.0  \n",
              "15417        165          0.0     0.0  "
            ]
          },
          "execution_count": 150,
          "metadata": {},
          "output_type": "execute_result"
        }
      ],
      "source": [
        "X[:5]"
      ]
    },
    {
      "cell_type": "code",
      "execution_count": 151,
      "metadata": {
        "id": "L4_i6lYz04mi"
      },
      "outputs": [],
      "source": [
        "X_preprocessed = preprocessor.fit_transform(X)"
      ]
    },
    {
      "cell_type": "code",
      "execution_count": 152,
      "metadata": {},
      "outputs": [
        {
          "data": {
            "text/plain": [
              "scipy.sparse._csr.csr_matrix"
            ]
          },
          "execution_count": 152,
          "metadata": {},
          "output_type": "execute_result"
        }
      ],
      "source": [
        "#check if X_preprocessed is a pandas dataframe or numpy array\n",
        "type(X_preprocessed)"
      ]
    },
    {
      "cell_type": "code",
      "execution_count": 153,
      "metadata": {},
      "outputs": [
        {
          "data": {
            "text/plain": [
              "(22579, 37)"
            ]
          },
          "execution_count": 153,
          "metadata": {},
          "output_type": "execute_result"
        }
      ],
      "source": [
        "X_preprocessed.shape"
      ]
    },
    {
      "cell_type": "code",
      "execution_count": 157,
      "metadata": {
        "colab": {
          "base_uri": "https://localhost:8080/"
        },
        "id": "erNGhpDS1SXu",
        "outputId": "756994d5-174e-4250-fa93-1ae9de95b0c1"
      },
      "outputs": [
        {
          "name": "stdout",
          "output_type": "stream",
          "text": [
            "Epoch 1/10\n",
            "18063/18063 [==============================] - 25s 1ms/step - loss: 0.1411 - accuracy: 0.9287 - val_loss: 7.6821e-05 - val_accuracy: 1.0000\n",
            "Epoch 2/10\n",
            "18063/18063 [==============================] - 24s 1ms/step - loss: 0.0465 - accuracy: 0.9822 - val_loss: 2.0946e-07 - val_accuracy: 1.0000\n",
            "Epoch 3/10\n",
            "18063/18063 [==============================] - 25s 1ms/step - loss: 0.0462 - accuracy: 0.9833 - val_loss: 1.0714e-06 - val_accuracy: 1.0000\n",
            "Epoch 4/10\n",
            "18063/18063 [==============================] - 25s 1ms/step - loss: 0.0384 - accuracy: 0.9848 - val_loss: 1.7239e-09 - val_accuracy: 1.0000\n",
            "Epoch 5/10\n",
            "18063/18063 [==============================] - 24s 1ms/step - loss: 0.0460 - accuracy: 0.9822 - val_loss: 6.6680e-11 - val_accuracy: 1.0000\n",
            "Epoch 6/10\n",
            "18063/18063 [==============================] - 25s 1ms/step - loss: 0.0406 - accuracy: 0.9843 - val_loss: 4.1547e-12 - val_accuracy: 1.0000\n",
            "Epoch 7/10\n",
            "18063/18063 [==============================] - 24s 1ms/step - loss: 0.0416 - accuracy: 0.9829 - val_loss: 3.2776e-12 - val_accuracy: 1.0000\n",
            "Epoch 8/10\n",
            "18063/18063 [==============================] - 24s 1ms/step - loss: 0.0382 - accuracy: 0.9851 - val_loss: 1.3446e-11 - val_accuracy: 1.0000\n",
            "Epoch 9/10\n",
            "18063/18063 [==============================] - 24s 1ms/step - loss: 0.0372 - accuracy: 0.9860 - val_loss: 1.2302e-13 - val_accuracy: 1.0000\n",
            "Epoch 10/10\n",
            "18063/18063 [==============================] - 25s 1ms/step - loss: 0.0395 - accuracy: 0.9844 - val_loss: 6.1641e-14 - val_accuracy: 1.0000\n"
          ]
        },
        {
          "data": {
            "text/plain": [
              "<keras.callbacks.History at 0x2b5f800a320>"
            ]
          },
          "execution_count": 157,
          "metadata": {},
          "output_type": "execute_result"
        }
      ],
      "source": [
        "# Define the deep learning model\n",
        "model = Sequential()\n",
        "model.add(Dense(32, input_dim=X_preprocessed.shape[1], activation='relu'))\n",
        "model.add(Dense(8, activation='relu'))\n",
        "model.add(Dropout(0.5))  # Adding dropout with a rate of 0.5\n",
        "model.add(Dense(1, activation='sigmoid'))  # Assuming binary classification\n",
        "\n",
        "# Compile the model\n",
        "model.compile(optimizer='adam', loss='binary_crossentropy', metrics=['accuracy'])\n",
        "\n",
        "X_preprocessed = X_preprocessed.toarray()\n",
        "\n",
        "# Fit the model\n",
        "model.fit(X_preprocessed, y, epochs=10, batch_size=1, validation_split=0.2)"
      ]
    },
    {
      "cell_type": "code",
      "execution_count": 158,
      "metadata": {},
      "outputs": [],
      "source": [
        "#save the model\n",
        "model.save('api/model.h5')"
      ]
    },
    {
      "cell_type": "code",
      "execution_count": 159,
      "metadata": {},
      "outputs": [
        {
          "data": {
            "text/plain": [
              "['api/preprocessor.pkl']"
            ]
          },
          "execution_count": 159,
          "metadata": {},
          "output_type": "execute_result"
        }
      ],
      "source": [
        "import joblib\n",
        "joblib.dump(preprocessor, 'api/preprocessor.pkl')"
      ]
    }
  ],
  "metadata": {
    "colab": {
      "provenance": []
    },
    "kernelspec": {
      "display_name": "Python 3",
      "name": "python3"
    },
    "language_info": {
      "codemirror_mode": {
        "name": "ipython",
        "version": 3
      },
      "file_extension": ".py",
      "mimetype": "text/x-python",
      "name": "python",
      "nbconvert_exporter": "python",
      "pygments_lexer": "ipython3",
      "version": "3.10.1"
    }
  },
  "nbformat": 4,
  "nbformat_minor": 0
}
